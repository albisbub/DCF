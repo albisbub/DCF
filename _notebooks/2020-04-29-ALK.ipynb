{
  "nbformat": 4,
  "nbformat_minor": 0,
  "metadata": {
    "colab": {
      "name": "_notebooks/2020-04-29-ALK.ipynb",
      "provenance": [],
      "collapsed_sections": [],
      "toc_visible": true,
      "machine_shape": "hm",
      "include_colab_link": true
    },
    "kernelspec": {
      "name": "python3",
      "display_name": "Python 3"
    }
  },
  "cells": [
    {
      "cell_type": "markdown",
      "metadata": {
        "id": "view-in-github",
        "colab_type": "text"
      },
      "source": [
        "<a href=\"https://colab.research.google.com/github/albisbub/DCF/blob/master/_notebooks/2020-04-29-ALK.ipynb\" target=\"_parent\"><img src=\"https://colab.research.google.com/assets/colab-badge.svg\" alt=\"Open In Colab\"/></a>"
      ]
    },
    {
      "cell_type": "markdown",
      "metadata": {
        "id": "rhWu9eh9kRuF",
        "colab_type": "text"
      },
      "source": [
        "# RFIC MEETING 7\n",
        "> Alaska Airlines Buy Pitch\n",
        "\n",
        "- toc:true\n",
        "- branch: master\n",
        "- badges: true\n",
        "- comments: true\n",
        "- author: Blaise and Abby\n",
        "- permalink: /ALK/\n",
        "- categories: [fastpages, jupyter]"
      ]
    },
    {
      "cell_type": "code",
      "metadata": {
        "id": "rPMgqEph9vcU",
        "colab_type": "code",
        "outputId": "b0effa53-e126-4101-df79-d0a23522d817",
        "colab": {
          "base_uri": "https://localhost:8080/",
          "height": 710
        }
      },
      "source": [
        "#hide\n",
        "#Requirements:\n",
        "import warnings\n",
        "warnings.filterwarnings('ignore')\n",
        "!pip install requests bs4 pandas yahoofinancials yahoo_fin requests_html\n",
        "!pip install argparse\n",
        "!pip install matplotlib urllib3 seaborn\n",
        "!pip install fuckit"
      ],
      "execution_count": 142,
      "outputs": [
        {
          "output_type": "stream",
          "text": [
            "Requirement already satisfied: requests in /usr/local/lib/python3.6/dist-packages (2.21.0)\n",
            "Requirement already satisfied: bs4 in /usr/local/lib/python3.6/dist-packages (0.0.1)\n",
            "Requirement already satisfied: pandas in /usr/local/lib/python3.6/dist-packages (1.0.3)\n",
            "Requirement already satisfied: yahoofinancials in /usr/local/lib/python3.6/dist-packages (1.5)\n",
            "Requirement already satisfied: yahoo_fin in /usr/local/lib/python3.6/dist-packages (0.8.5)\n",
            "Requirement already satisfied: requests_html in /usr/local/lib/python3.6/dist-packages (0.10.0)\n",
            "Requirement already satisfied: chardet<3.1.0,>=3.0.2 in /usr/local/lib/python3.6/dist-packages (from requests) (3.0.4)\n",
            "Requirement already satisfied: urllib3<1.25,>=1.21.1 in /usr/local/lib/python3.6/dist-packages (from requests) (1.24.3)\n",
            "Requirement already satisfied: certifi>=2017.4.17 in /usr/local/lib/python3.6/dist-packages (from requests) (2020.4.5.1)\n",
            "Requirement already satisfied: idna<2.9,>=2.5 in /usr/local/lib/python3.6/dist-packages (from requests) (2.8)\n",
            "Requirement already satisfied: beautifulsoup4 in /usr/local/lib/python3.6/dist-packages (from bs4) (4.6.3)\n",
            "Requirement already satisfied: numpy>=1.13.3 in /usr/local/lib/python3.6/dist-packages (from pandas) (1.18.3)\n",
            "Requirement already satisfied: python-dateutil>=2.6.1 in /usr/local/lib/python3.6/dist-packages (from pandas) (2.8.1)\n",
            "Requirement already satisfied: pytz>=2017.2 in /usr/local/lib/python3.6/dist-packages (from pandas) (2018.9)\n",
            "Requirement already satisfied: fake-useragent in /usr/local/lib/python3.6/dist-packages (from requests_html) (0.1.11)\n",
            "Requirement already satisfied: pyppeteer>=0.0.14 in /usr/local/lib/python3.6/dist-packages (from requests_html) (0.0.25)\n",
            "Requirement already satisfied: w3lib in /usr/local/lib/python3.6/dist-packages (from requests_html) (1.21.0)\n",
            "Requirement already satisfied: pyquery in /usr/local/lib/python3.6/dist-packages (from requests_html) (1.4.1)\n",
            "Requirement already satisfied: parse in /usr/local/lib/python3.6/dist-packages (from requests_html) (1.15.0)\n",
            "Requirement already satisfied: six>=1.5 in /usr/local/lib/python3.6/dist-packages (from python-dateutil>=2.6.1->pandas) (1.12.0)\n",
            "Requirement already satisfied: tqdm in /usr/local/lib/python3.6/dist-packages (from pyppeteer>=0.0.14->requests_html) (4.38.0)\n",
            "Requirement already satisfied: pyee in /usr/local/lib/python3.6/dist-packages (from pyppeteer>=0.0.14->requests_html) (7.0.1)\n",
            "Requirement already satisfied: appdirs in /usr/local/lib/python3.6/dist-packages (from pyppeteer>=0.0.14->requests_html) (1.4.3)\n",
            "Requirement already satisfied: websockets in /usr/local/lib/python3.6/dist-packages (from pyppeteer>=0.0.14->requests_html) (8.1)\n",
            "Requirement already satisfied: lxml>=2.1 in /usr/local/lib/python3.6/dist-packages (from pyquery->requests_html) (4.2.6)\n",
            "Requirement already satisfied: cssselect>0.7.9 in /usr/local/lib/python3.6/dist-packages (from pyquery->requests_html) (1.1.0)\n",
            "Requirement already satisfied: argparse in /usr/local/lib/python3.6/dist-packages (1.4.0)\n",
            "Requirement already satisfied: matplotlib in /usr/local/lib/python3.6/dist-packages (3.2.1)\n",
            "Requirement already satisfied: urllib3 in /usr/local/lib/python3.6/dist-packages (1.24.3)\n",
            "Requirement already satisfied: seaborn in /usr/local/lib/python3.6/dist-packages (0.10.0)\n",
            "Requirement already satisfied: python-dateutil>=2.1 in /usr/local/lib/python3.6/dist-packages (from matplotlib) (2.8.1)\n",
            "Requirement already satisfied: kiwisolver>=1.0.1 in /usr/local/lib/python3.6/dist-packages (from matplotlib) (1.2.0)\n",
            "Requirement already satisfied: cycler>=0.10 in /usr/local/lib/python3.6/dist-packages (from matplotlib) (0.10.0)\n",
            "Requirement already satisfied: pyparsing!=2.0.4,!=2.1.2,!=2.1.6,>=2.0.1 in /usr/local/lib/python3.6/dist-packages (from matplotlib) (2.4.7)\n",
            "Requirement already satisfied: numpy>=1.11 in /usr/local/lib/python3.6/dist-packages (from matplotlib) (1.18.3)\n",
            "Requirement already satisfied: pandas>=0.22.0 in /usr/local/lib/python3.6/dist-packages (from seaborn) (1.0.3)\n",
            "Requirement already satisfied: scipy>=1.0.1 in /usr/local/lib/python3.6/dist-packages (from seaborn) (1.4.1)\n",
            "Requirement already satisfied: six>=1.5 in /usr/local/lib/python3.6/dist-packages (from python-dateutil>=2.1->matplotlib) (1.12.0)\n",
            "Requirement already satisfied: pytz>=2017.2 in /usr/local/lib/python3.6/dist-packages (from pandas>=0.22.0->seaborn) (2018.9)\n",
            "Requirement already satisfied: fuckit in /usr/local/lib/python3.6/dist-packages (4.8.1)\n"
          ],
          "name": "stdout"
        }
      ]
    },
    {
      "cell_type": "code",
      "metadata": {
        "id": "A3t6NeYg5wg9",
        "colab_type": "code",
        "colab": {}
      },
      "source": [
        "#hide\n",
        "import numpy as np\n",
        "import pandas as pd\n",
        "import matplotlib.pyplot as plt\n",
        "import altair as alt\n",
        "from datetime import timedelta, datetime, date\n",
        "%config InlineBackend.figure_format = 'retina'\n",
        "\n",
        "chart_width = 550\n",
        "chart_height= 400\n",
        "\n",
        "import gspread\n",
        "from oauth2client.service_account import ServiceAccountCredentials\n",
        "\n",
        "pd.set_option('display.max_rows', 500)\n",
        "pd.set_option('display.max_columns', 500)\n",
        "pd.set_option('display.width', 1000)\n",
        "import requests\n",
        "# !pip install \n",
        "from bs4 import BeautifulSoup\n",
        "import pandas as pd\n",
        "from yahoofinancials import YahooFinancials\n",
        "from yahoo_fin.stock_info import get_quote_table, get_stats, get_live_price, get_income_statement, get_balance_sheet, get_cash_flow\n",
        "# !pip install dict\n",
        "# from dict import dict\n",
        "def getQuote(ticker):\n",
        "    return str(round(get_live_price(ticker), 2))\n",
        "\n",
        "def finviz_summaryTable(symbols):\n",
        "    # Get Column Header\n",
        "    req = requests.get(\"https://finviz.com/quote.ashx?t=FB\")\n",
        "    soup = BeautifulSoup(req.content, 'html.parser')\n",
        "    table = soup.find_all(lambda tag: tag.name=='table')\n",
        "    rows = table[8].findAll(lambda tag: tag.name=='tr')\n",
        "    out=[]\n",
        "    for i in range(len(rows)):\n",
        "        td=rows[i].find_all('td')\n",
        "        out=out+[x.text for x in td]\n",
        "\n",
        "    ls=['Ticker','Sector','Sub-Sector','Country']+out[::2]\n",
        "\n",
        "    dict_ls={k:ls[k] for k in range(len(ls))}\n",
        "    df=pd.DataFrame()\n",
        "    print('Fetching Data...')\n",
        "    for j in range(len(symbols)):\n",
        "\n",
        "      try:\n",
        "\n",
        "        req = requests.get(\"https://finviz.com/quote.ashx?t=\"+symbols[j])\n",
        "        if req.status_code !=200:\n",
        "            continue\n",
        "        soup = BeautifulSoup(req.content, 'html.parser')\n",
        "        table = soup.find_all(lambda tag: tag.name=='table')\n",
        "        rows=table[6].findAll(lambda tag: tag.name=='tr')\n",
        "        sector=[]\n",
        "        for i in range(len(rows)):\n",
        "            td=rows[i].find_all('td')\n",
        "            sector=sector+[x.text for x in td]\n",
        "        sector=sector[2].split('|')\n",
        "        rows = table[8].findAll(lambda tag: tag.name=='tr')\n",
        "        out=[]\n",
        "        for i in range(len(rows)):\n",
        "            td=rows[i].find_all('td')\n",
        "            out=out+[x.text for x in td]\n",
        "        out=[symbols[j]]+sector+out[1::2]\n",
        "        out_df=pd.DataFrame(out).transpose()\n",
        "        df=df.append(out_df,ignore_index=True)\n",
        "        print('Done!')\n",
        "        \n",
        "        df=df.rename(columns=dict_ls)   \n",
        "\n",
        "      except BaseException as E:\n",
        "        print(\"Could not find data:\", E)\n",
        "\n",
        "    return(df)\n",
        "    \n",
        "def yf_summaryTable(tickerList):\n",
        "    values = []\n",
        "    for i in tickerList:\n",
        "      try:\n",
        "        value = get_quote_table(i , dict_result = True)\n",
        "        values.append(value)\n",
        "      except BaseException as e:\n",
        "        print(e)\n",
        "             \n",
        "    outD = dict(zip(tickerList,values))\n",
        "            \n",
        "    return outD\n",
        "        \n",
        "def yf_stats_compTable(tickerList):\n",
        "    values = []\n",
        "    for i in tickerList:\n",
        "      try:\n",
        "        value = get_stats(i)\n",
        "        values.append(value)\n",
        "      except BaseException as e:\n",
        "        print(e)\n",
        "             \n",
        "    outD= dict(zip(tickerList,values))\n",
        "            \n",
        "    return outD\n",
        "               \n",
        "def get_prices(tickerlist, start, end, period):\n",
        "    yahoo_financials = YahooFinancials(tickerlist)\n",
        "    jsonDATA = yahoo_financials.get_historical_price_data(start,end, period)\n",
        "    return jsonDATA"
      ],
      "execution_count": 0,
      "outputs": []
    },
    {
      "cell_type": "code",
      "metadata": {
        "id": "O83yTWfmXMgC",
        "colab_type": "code",
        "colab": {}
      },
      "source": [
        "#hide\n",
        "def make_multi_LineGraph(data, logged):\n",
        "  try:  \n",
        "    df = data\n",
        "    if logged == True:\n",
        "      df['log Value'] =  np.around(np.log(df.Value), 4)\n",
        "      aY = ('log Value:Q')\n",
        "      scc = alt.Scale(type='log')\n",
        "      color1 = alt.Color('Metric:N', legend=alt.Legend(title=\"Natural Log of Metrics\", labelFontSize=15, titleFontSize=17),\n",
        "                      scale=alt.Scale(scheme='tableau20'))\n",
        "    else:\n",
        "      aY = ('Value:Q')\n",
        "      scc=alt.Scale(type='linear')\n",
        "      color1 = alt.Color('Metric:N', legend=alt.Legend(title=\"Metrics\",labelFontSize=15, titleFontSize=17),\n",
        "                      scale=alt.Scale(scheme='tableau20'))   \n",
        "    label = alt.selection_multi(fields=['Metric'], bind='legend', \n",
        "        on='mouseover',  # select on mouseover events\n",
        "        nearest=True,    # select data point nearest the cursor\n",
        "        empty='none'     # empty selection includes no data points\n",
        "    )\n",
        "    # define our base line chart of stock prices\n",
        "    base = alt.Chart().mark_line().encode(\n",
        "        alt.X('Year:T'),\n",
        "        alt.Y(aY, scale=scc) ,\n",
        "        color = color1 \n",
        "        \n",
        "        \n",
        "        # alt.Color(' Metric:N'), opacity = alt.condition(label, alt.value(1), alt.value(0.5))\n",
        "\n",
        "    )\n",
        "\n",
        "    graph = alt.layer(\n",
        "        base, # base line chart\n",
        "        \n",
        "        # add a rule mark to serve as a guide line\n",
        "        alt.Chart().mark_rule(color='#aaa').encode(\n",
        "            x='Year:T'\n",
        "        ).transform_filter(label),\n",
        "        \n",
        "        # add circle marks for selected time points, hide unselected points\n",
        "        base.mark_circle().encode(\n",
        "            opacity=alt.condition(label, alt.value(1), alt.value(0))\n",
        "        ).add_selection(label),\n",
        "\n",
        "        # add white stroked text to provide a legible background for labels\n",
        "        base.mark_text(align='left', dx=5, dy=-5, stroke='white', strokeWidth=2).encode(\n",
        "            text=aY\n",
        "        ).transform_filter(label),\n",
        "\n",
        "        # add text labels for stock prices\n",
        "        base.mark_text(align='left', dx=5, dy=-5).encode(\n",
        "            text=aY\n",
        "        ).transform_filter(label),\n",
        "        \n",
        "        data=df\n",
        "    ).properties(\n",
        "        width=700,\n",
        "        height=400\n",
        "    )\n",
        "    \n",
        "    return graph\n",
        "  except BaseException as e:\n",
        "    pass\n",
        "\n",
        "\n",
        "def formatPeers(inputs):\n",
        "  ColumnList = list(inputs.columns)\n",
        "  yearList = list(inputs.Ticker)\n",
        "\n",
        "  print(ColumnList)\n",
        "  print(yearList)\n",
        "\n",
        "\n",
        "  transposed = inputs.transpose()\n",
        "  cleaned = transposed.reset_index()\n",
        "\n",
        "  new_header = cleaned.iloc[0] #grab the first row for the header\n",
        "  cleaned = cleaned[1:] #take the data less the header row\n",
        "  cleaned.columns = new_header #set the header row as the df header\n",
        "\n",
        "  byYear = cleaned.set_index(\"Ticker\").stack()\n",
        "\n",
        "  df = pd.DataFrame(byYear, columns=['Value'])\n",
        "  df.reset_index(inplace=True)\n",
        "  print(df.columns)\n",
        "  df.rename(columns={0:'Ticker'}, inplace=True)\n",
        "  df.dropna(inplace=True)\n",
        "  df['Value'] = pd.to_numeric(df['Value'], errors='coerce')\n",
        "\n",
        "  new_header = df.iloc[0] #grab the first row for the header\n",
        "  df = df[1:] #take the data less the header row\n",
        "  df.columns = new_header #set the header row as the df header\n",
        "\n",
        "\n",
        "  return df\n",
        "\n",
        "def get_financials(tickerList):\n",
        "  \"\"\"\n",
        "  list of lists\n",
        "  same order as ticker list\n",
        "  each list contains a list of datframes in the order income statement , balance sheet, cash flow\n",
        "  \"\"\"\n",
        "\n",
        "  tickersDF = []\n",
        "  for i in tickerList:\n",
        "\n",
        "    income_statement = get_income_statement(i)\n",
        "    \n",
        "    balance_sheet = get_balance_sheet(i)\n",
        "    \n",
        "    cash_flow = get_cash_flow(i)\n",
        "\n",
        "    finList = [income_statement, balance_sheet, cash_flow]\n",
        "    tickersDF.append(finList)\n",
        "\n",
        "  return tickersDF\n",
        "\n",
        "def interactive_bat(data):\n",
        "\n",
        "\n",
        "  source = data\n",
        "  brush = alt.selection(type='interval', encodings=['x'])\n",
        "\n",
        "  bars = alt.Chart().mark_bar().encode(\n",
        "      x='Ticker:N',\n",
        "      y='mean(Value):Q',\n",
        "      opacity=alt.condition(brush, alt.OpacityValue(1), alt.OpacityValue(0.7)),\n",
        "  ).add_selection(\n",
        "      brush\n",
        "  )\n",
        "\n",
        "  line = alt.Chart().mark_rule(color='firebrick').encode(\n",
        "      y='mean(Value):Q',\n",
        "      size=alt.SizeValue(3)\n",
        "  ).transform_filter(\n",
        "      brush\n",
        "  )\n",
        "\n",
        "  graph = alt.layer(bars, line, data=source)\n",
        "\n",
        "  return graph\n",
        "\n",
        "  "
      ],
      "execution_count": 0,
      "outputs": []
    },
    {
      "cell_type": "code",
      "metadata": {
        "id": "w5D7-K-87KED",
        "colab_type": "code",
        "colab": {}
      },
      "source": [
        "#hide\n",
        "subjectCompany = \"ALK\"\n",
        "peers = [\"AAL\", \"DAL\", 'LUV', 'UAL']\n",
        "tickerList = []\n",
        "tickerList.append(subjectCompany)\n",
        "for i in peers:\n",
        "\n",
        "  tickerList.append(i)"
      ],
      "execution_count": 0,
      "outputs": []
    },
    {
      "cell_type": "code",
      "metadata": {
        "id": "kSj_GpcLECP4",
        "colab_type": "code",
        "colab": {}
      },
      "source": [
        "#hide\n",
        "all_financials_querry = get_financials(tickerList)\n",
        "#Works\n",
        "subjectTfinancials = all_financials_querry[0]"
      ],
      "execution_count": 0,
      "outputs": []
    },
    {
      "cell_type": "code",
      "metadata": {
        "id": "buv2tYzNHXmR",
        "colab_type": "code",
        "colab": {}
      },
      "source": [
        "#hide\n",
        "## Clean some shit up for charting\n",
        "from datetime import date\n",
        "today = date.today()\n",
        "\n",
        "now = str(today.strftime(\"%m/%d/%Y\"))\n",
        "print(now)\n",
        "\n",
        "for i in subjectTfinancials:\n",
        "  a = i\n",
        "  a.rename({'ttm': now}, inplace=True, axis = \"columns\")\n",
        "  a.rename({'Breakdown': \"Year\"}, inplace=True, axis = \"columns\")\n"
      ],
      "execution_count": 0,
      "outputs": []
    },
    {
      "cell_type": "code",
      "metadata": {
        "id": "AArGxxEMCMpp",
        "colab_type": "code",
        "colab": {}
      },
      "source": [
        "#hide\n",
        "!pip install pyfinmod\n",
        "from pyfinmod.financials import Financials\n",
        "parser = Financials(subjectCompany)\n",
        "\n",
        "# (parser.cash_flow_statement)\n",
        "# (parser.balance_sheet_statement)\n",
        "# (parser.income_statement)\n",
        "\n",
        "\n",
        "cash = (parser.cash_flow_statement).transpose().reset_index().rename(columns={'index':'Year'})\n",
        "balance = (parser.balance_sheet_statement).transpose().reset_index().rename(columns={'index':'Year'})\n",
        "income = (parser.income_statement).transpose().reset_index().rename(columns={'index':'Year'})# income = subjectTfinancials[0]\n",
        "\n",
        "# income = subjectTfinancials[0]\n",
        "# balance = subjectTfinancials[1]\n",
        "# cash = subjectTfinancials[2]"
      ],
      "execution_count": 0,
      "outputs": []
    },
    {
      "cell_type": "markdown",
      "metadata": {
        "id": "-II20Y9dCZsG",
        "colab_type": "text"
      },
      "source": [
        "# Subjet Company Financials"
      ]
    },
    {
      "cell_type": "markdown",
      "metadata": {
        "id": "rgUOcR5oCzU9",
        "colab_type": "text"
      },
      "source": [
        "## Income Statement"
      ]
    },
    {
      "cell_type": "code",
      "metadata": {
        "id": "ol1WG-BkDsAQ",
        "colab_type": "code",
        "colab": {}
      },
      "source": [
        "#hide-input\n",
        "income\n",
        "## LONG FORMATED FINANCIALS (Year in columns)\n"
      ],
      "execution_count": 0,
      "outputs": []
    },
    {
      "cell_type": "code",
      "metadata": {
        "id": "W32rlx3rQk33",
        "colab_type": "code",
        "colab": {}
      },
      "source": [
        "#hide\n",
        "## WIDE FORMATTED FINANCIALS (Metric In Columns)\n",
        "\n",
        "# def formatStmnt(inputs):\n",
        "#   ColumnList = list(inputs.columns)\n",
        "#   yearList = list(inputs.Year)\n",
        "\n",
        "#   print(ColumnList)\n",
        "#   print(yearList)\n",
        "\n",
        "\n",
        "#   transposed = inputs.transpose()\n",
        "#   cleaned = transposed.reset_index()\n",
        "\n",
        "#   new_header = cleaned.iloc[0] #grab the first row for the header\n",
        "#   cleaned = cleaned[1:] #take the data less the header row\n",
        "#   cleaned.columns = new_header #set the header row as the df header\n",
        "\n",
        "#   byYear = cleaned.set_index(\"Year\").stack()\n",
        "\n",
        "#   df = pd.DataFrame(byYear, columns=['Value'])\n",
        "#   df.reset_index(inplace=True)\n",
        "#   print(df.columns)\n",
        "#   df.rename(columns={0:'Metric'}, inplace=True)\n",
        "#   df.dropna(inplace=True)\n",
        "#   df['Value'] = pd.to_numeric(df['Value'], errors='coerce')\n",
        "#   df = inputs\n",
        "\n",
        "\n",
        "\n",
        "#   return df\n",
        "\n",
        "\n",
        "def formatStmnt(inputs):\n",
        "  ColumnList = list(inputs.columns)\n",
        "  yearList = list(inputs.Year)\n",
        "\n",
        "  # print(ColumnList)\n",
        "  # print(yearList)\n",
        "\n",
        "\n",
        "  # transposed = inputs.transpose()\n",
        "  cleaned = inputs.rename_axis('Metric')\n",
        "  # print(cleaned.columns)\n",
        "  # cleaned.drop(cleaned.columns[0],inplace=True)\n",
        "  byYear = cleaned.set_index('Year').stack()\n",
        "\n",
        "  df = pd.DataFrame(byYear, columns=['Value'])\n",
        "  df.reset_index(inplace=True)\n",
        "  # print(df.columns)\n",
        "  df.rename(columns={'row name':'Metric'}, inplace=True)\n",
        "  # df.dropna(inplace=True)\n",
        "  # df['Value'] = pd.to_numeric(df['Value'], errors='coerce')\n",
        "  # print(df)\n",
        "\n",
        "\n",
        "  # print(df.columns)\n",
        "  df = df[~df['Metric'].isin(['level_0','index'])]\n",
        "  # df = df.drop(['level_0','index'],axis=0)\n",
        "  # print(df.Year)\n",
        "\n",
        "  df.Year = df.Year.astype(str)\n",
        "  return df"
      ],
      "execution_count": 0,
      "outputs": []
    },
    {
      "cell_type": "code",
      "metadata": {
        "id": "WkPP4ezhUJvS",
        "colab_type": "code",
        "colab": {}
      },
      "source": [
        "#hide\n",
        "#stack the transposed dataframes.\n",
        "df = formatStmnt(income)\n",
        "metricList = df[df.columns[1]].unique()"
      ],
      "execution_count": 0,
      "outputs": []
    },
    {
      "cell_type": "code",
      "metadata": {
        "id": "J2KyqI3UVFLj",
        "colab_type": "code",
        "colab": {}
      },
      "source": [
        "#hide\n",
        "####PICK METRICS\n",
        "\n",
        "\n",
        "columnList = [\n",
        "\n",
        "\n",
        "\"Revenue\"  , \n",
        "\"Cost of Revenue\"  , \n",
        "\"Gross Profit\"  , \n",
        "\n",
        "\n",
        "\n",
        "\"R&D Expenses\"  , \n",
        "\"SG&A Expense\"  , \n",
        "\"Operating Expenses\"  , \n",
        "\"Operating Income\"  , \n",
        "\"Interest Expense\"  , \n",
        "\n",
        "\n",
        "\n",
        "\"Earnings before Tax\"  , \n",
        "\"Income Tax Expense\"  , \n",
        "\n",
        "\"Net Income - Non-Controlling int\"  , \n",
        "\"Net Income - Discontinued ops\"  , \n",
        "\"Net Income\"  , \n",
        "\n",
        "\"Preferred Dividends\"  , \n",
        "\"Net Income Com\"  , \n",
        "\n",
        "\"EPS\"  , \n",
        "\"EPS Diluted\"  , \n",
        "\"Dividend per Share\"  , \n",
        "\n",
        "\"Weighted Average Shs Out\"  , \n",
        "\n",
        "\n",
        "\"Weighted Average Shs Out (Dil)\"  , \n",
        "\n",
        "\n",
        "\n",
        "\n",
        "\n",
        "\"Gross Margin\"  , \n",
        "\"EBITDA Margin\"  , \n",
        "\"EBIT Margin\"  , \n",
        "\"Profit Margin\"  , \n",
        "\"Free Cash Flow margin\"  , \n",
        "\"EBITDA\"  , \n",
        "\"EBIT\"  , \n",
        "\n",
        "\n",
        "\"Consolidated Income\"  , \n",
        "\"Earnings Before Tax Margin\"  , \n",
        "\"Net Profit Margin\"  , \n",
        "\n",
        "\"Revenue Growth\"  , \n",
        "\n",
        "]\n",
        "\n",
        "revenueBases = ['Revenue','Gross Profit', \"Operating Income\" ,\"Earnings before Tax\" , \"Net Income\", \"Net Income Com\",\"Consolidated Income\" ,\"EBITDA\" ,\"EBIT\" ]\n",
        "revg = [\"Revenue Growth\"]\n",
        "epsS = [\"EPS\"  , \n",
        "\"EPS Diluted\"  , \n",
        "\"Dividend per Share\"  ,]\n",
        "costs = [  \"Cost of Revenue\"  ,\"Operating Expenses\" ,'Interest Expense', 'Income Tax Expense', \"Preferred Dividends\"  , ]\n",
        "\n",
        "oppCosts = [\"R&D Expenses\"  , \n",
        "\"SG&A Expense\"  , ]\n",
        "\n",
        "floats = [\"Weighted Average Shs Out\"  , \n",
        "\n",
        "\n",
        "\"Weighted Average Shs Out (Dil)\"  , \n",
        "]\n",
        "margins = [\n",
        "\"Gross Margin\"  , \n",
        "\"EBITDA Margin\"  , \n",
        "\"EBIT Margin\"  , \n",
        "\"Profit Margin\"  , \n",
        "\"Free Cash Flow margin\"  , \n",
        "\"Earnings Before Tax Margin\"  , \n",
        "\"Net Profit Margin\"  , \n",
        "]\n",
        "\n",
        "growthRates = [\"Revenue Growth\"]\n",
        "\n",
        "revs_g = df[df['Metric'].isin(revenueBases)]\n",
        "eps_g = df[df['Metric'].isin(epsS)]\n",
        "cost_g = df[df['Metric'].isin(costs)]\n",
        "operating_g = df[df['Metric'].isin(oppCosts)]\n",
        "float_g = df[df['Metric'].isin(floats)]\n",
        "margins_g = df[df['Metric'].isin(margins)]\n",
        "\n",
        "revs_gg = df[df['Metric'].isin(growthRates)]\n",
        "\n"
      ],
      "execution_count": 0,
      "outputs": []
    },
    {
      "cell_type": "code",
      "metadata": {
        "id": "hbDymmtV2v_j",
        "colab_type": "code",
        "colab": {}
      },
      "source": [
        "#hide\n",
        "most_recent_float = list((float_g.Value).dropna())[0]"
      ],
      "execution_count": 0,
      "outputs": []
    },
    {
      "cell_type": "markdown",
      "metadata": {
        "id": "ojez90m3nZGR",
        "colab_type": "text"
      },
      "source": [
        "### Revenues"
      ]
    },
    {
      "cell_type": "code",
      "metadata": {
        "id": "ipCqQnU3nScx",
        "colab_type": "code",
        "colab": {}
      },
      "source": [
        "#hide-input\n",
        "\n",
        "\n",
        "make_multi_LineGraph(revs_g, False)\n"
      ],
      "execution_count": 0,
      "outputs": []
    },
    {
      "cell_type": "markdown",
      "metadata": {
        "id": "WQwILPPlPLrI",
        "colab_type": "text"
      },
      "source": [
        "### Revenue Growth & Change in Growth"
      ]
    },
    {
      "cell_type": "code",
      "metadata": {
        "id": "eAQv8KrUPJW3",
        "colab_type": "code",
        "colab": {}
      },
      "source": [
        "#hide-input\n",
        "make_multi_LineGraph(revs_gg, False)\n"
      ],
      "execution_count": 0,
      "outputs": []
    },
    {
      "cell_type": "code",
      "metadata": {
        "id": "xtHpeO4sPqsM",
        "colab_type": "code",
        "colab": {}
      },
      "source": [
        "#hide-input\n",
        "\n",
        "make_multi_LineGraph(revs_gg, True)\n"
      ],
      "execution_count": 0,
      "outputs": []
    },
    {
      "cell_type": "markdown",
      "metadata": {
        "id": "32cNeYHynbaZ",
        "colab_type": "text"
      },
      "source": [
        "### EPS"
      ]
    },
    {
      "cell_type": "code",
      "metadata": {
        "id": "LfzpbxylnTwU",
        "colab_type": "code",
        "colab": {}
      },
      "source": [
        "#hide-input\n",
        "\n",
        "make_multi_LineGraph(eps_g, False)\n",
        "\n"
      ],
      "execution_count": 0,
      "outputs": []
    },
    {
      "cell_type": "markdown",
      "metadata": {
        "id": "--qvSBG7nddQ",
        "colab_type": "text"
      },
      "source": [
        "### Cost Components"
      ]
    },
    {
      "cell_type": "code",
      "metadata": {
        "id": "kxt2E-K_nVY9",
        "colab_type": "code",
        "colab": {}
      },
      "source": [
        "#hide-input\n",
        "\n",
        "make_multi_LineGraph(cost_g, False)\n"
      ],
      "execution_count": 0,
      "outputs": []
    },
    {
      "cell_type": "code",
      "metadata": {
        "id": "0IEJVip4VNNU",
        "colab_type": "code",
        "colab": {}
      },
      "source": [
        "#hide-input\n",
        "\n",
        "make_multi_LineGraph(cost_g, True)\n"
      ],
      "execution_count": 0,
      "outputs": []
    },
    {
      "cell_type": "code",
      "metadata": {
        "id": "apmja6LXnXCT",
        "colab_type": "code",
        "colab": {}
      },
      "source": [
        "#hide-input\n",
        "\n",
        "make_multi_LineGraph(operating_g, False)\n"
      ],
      "execution_count": 0,
      "outputs": []
    },
    {
      "cell_type": "code",
      "metadata": {
        "id": "vYYtE9siVXCO",
        "colab_type": "code",
        "colab": {}
      },
      "source": [
        "make_multi_LineGraph(operating_g, True)\n"
      ],
      "execution_count": 0,
      "outputs": []
    },
    {
      "cell_type": "markdown",
      "metadata": {
        "id": "-NxpoGAgnma7",
        "colab_type": "text"
      },
      "source": [
        "### Shares Outstanding"
      ]
    },
    {
      "cell_type": "code",
      "metadata": {
        "id": "Sqk8mje5nX_B",
        "colab_type": "code",
        "colab": {}
      },
      "source": [
        "#hide-input\n",
        "\n",
        "make_multi_LineGraph(float_g, False)"
      ],
      "execution_count": 0,
      "outputs": []
    },
    {
      "cell_type": "markdown",
      "metadata": {
        "id": "jpebhz-eMyPM",
        "colab_type": "text"
      },
      "source": [
        "## Margins"
      ]
    },
    {
      "cell_type": "code",
      "metadata": {
        "id": "i20lDIZ9Mx4U",
        "colab_type": "code",
        "colab": {}
      },
      "source": [
        "make_multi_LineGraph(margins_g, False)"
      ],
      "execution_count": 0,
      "outputs": []
    },
    {
      "cell_type": "markdown",
      "metadata": {
        "id": "uihLrRMCCzIZ",
        "colab_type": "text"
      },
      "source": [
        "## Balance Sheet"
      ]
    },
    {
      "cell_type": "code",
      "metadata": {
        "id": "jm3kmy3dE2rp",
        "colab_type": "code",
        "colab": {}
      },
      "source": [
        "#hide-input\n",
        "\n",
        "balance"
      ],
      "execution_count": 0,
      "outputs": []
    },
    {
      "cell_type": "code",
      "metadata": {
        "id": "_8BTZMorhCzw",
        "colab_type": "code",
        "colab": {}
      },
      "source": [
        "#hide\n",
        "df = formatStmnt(balance)\n",
        "metricList = df[df.columns[1]].unique()\n",
        "for i in metricList:\n",
        "  print(str(\"'\"+i+\"'\"), ' ,')"
      ],
      "execution_count": 0,
      "outputs": []
    },
    {
      "cell_type": "code",
      "metadata": {
        "id": "krcYCgdvjJTb",
        "colab_type": "code",
        "colab": {}
      },
      "source": [
        "#hide\n",
        "columnList = [\n",
        "'Cash and cash equivalents'  ,\n",
        "'Short-term investments'  ,\n",
        "'Cash and short-term investments'  ,\n",
        "'Receivables'  ,\n",
        "'Inventories'  ,\n",
        "'Total current assets'  ,\n",
        "'Property, Plant & Equipment Net'  ,\n",
        "'Goodwill and Intangible Assets'  ,\n",
        "'Long-term investments'  ,\n",
        "'Tax assets'  ,\n",
        "'Total non-current assets'  ,\n",
        "'Total assets'  ,\n",
        "'Payables'  ,\n",
        "'Short-term debt'  ,\n",
        "'Total current liabilities'  ,\n",
        "'Long-term debt'  ,\n",
        "'Total debt'  ,\n",
        "'Deferred revenue'  ,\n",
        "'Tax Liabilities'  ,\n",
        "'Deposit Liabilities'  ,\n",
        "'Total non-current liabilities'  ,\n",
        "'Total liabilities'  ,\n",
        "'Other comprehensive income'  ,\n",
        "'Retained earnings (deficit)'  ,\n",
        "'Total shareholders equity'  ,\n",
        "'Investments'  ,\n",
        "'Net Debt'  ,\n",
        "'Other Assets'  ,\n",
        "'Other Liabilities'  ,\n",
        "]\n",
        "\n",
        "\n",
        "assets = [\n",
        "      \n",
        "      'Cash and cash equivalents'  ,\n",
        "'Short-term investments'  ,\n",
        "'Cash and short-term investments'  ,\n",
        "'Receivables'  ,\n",
        "'Inventories'  ,\n",
        "'Total current assets'  ,\n",
        "'Property, Plant & Equipment Net'  ,\n",
        "'Goodwill and Intangible Assets'  ,\n",
        "'Tax assets'  ,\n",
        "'Total non-current assets'  ,\n",
        "'Total assets'  ,\n",
        "'Other Assets'  ,\n",
        "'Other Liabilities'  ,\n",
        "\n",
        "      ]\n",
        "\n",
        "depre = [   \n",
        "'Long-term investments'  ,\n",
        "'Investments'  ,\n",
        "'Cash and short-term investments'  ,\n",
        "]\n",
        "\n",
        "current_liabs = [\n",
        "'Payables'  ,\n",
        "'Short-term debt'  ,\n",
        "'Total current liabilities'  ,\n",
        "'Long-term debt'  ,\n",
        "'Total debt'  ,\n",
        "'Deferred revenue'  ,\n",
        "'Tax Liabilities'  ,\n",
        "'Deposit Liabilities'  ,\n",
        "'Total non-current liabilities'  ,\n",
        "'Total liabilities'  ,\n",
        "\n",
        "\n",
        "]\n",
        "\n",
        "\n",
        "liab_equi = [              'Total liabilities',\n",
        "'Total shareholders equity' ,]\n",
        "\n",
        "\n",
        "equity = [ 'Common Stock',\n",
        "              'Retained Earnings']\n",
        "\n",
        "     \n",
        "\n",
        "assets_g = df[df['Metric'].isin(assets)]\n",
        "dep_g = df[df['Metric'].isin(depre)]\n",
        "clab_g = df[df['Metric'].isin(current_liabs)]\n",
        "llab_g = df[df['Metric'].isin(long_liabs)]\n",
        "ls_g = df[df['Metric'].isin(long_short)]\n",
        "e =  df[df['Metric'].isin(equity)]\n",
        "le = df[df['Metric'].isin(liab_equi)]\n",
        "\n",
        "# liabs_ass = df[df['Metric'].isin(la)]\n"
      ],
      "execution_count": 0,
      "outputs": []
    },
    {
      "cell_type": "markdown",
      "metadata": {
        "id": "gVMWCziEnynJ",
        "colab_type": "text"
      },
      "source": [
        "### Assets"
      ]
    },
    {
      "cell_type": "code",
      "metadata": {
        "id": "Si4nZs0fnze0",
        "colab_type": "code",
        "colab": {}
      },
      "source": [
        "#hide-input\n",
        "\n",
        "make_multi_LineGraph(assets_g, False)\n"
      ],
      "execution_count": 0,
      "outputs": []
    },
    {
      "cell_type": "code",
      "metadata": {
        "id": "RNKr6XKIT1Ql",
        "colab_type": "code",
        "colab": {}
      },
      "source": [
        "make_multi_LineGraph(assets_g, True)\n"
      ],
      "execution_count": 0,
      "outputs": []
    },
    {
      "cell_type": "markdown",
      "metadata": {
        "id": "4VdoSi9on3ui",
        "colab_type": "text"
      },
      "source": [
        "### Investment and Cash Equivalents"
      ]
    },
    {
      "cell_type": "code",
      "metadata": {
        "id": "YAxrHJhen58q",
        "colab_type": "code",
        "colab": {}
      },
      "source": [
        "#hide-input\n",
        "\n",
        "make_multi_LineGraph(dep_g, False)\n"
      ],
      "execution_count": 0,
      "outputs": []
    },
    {
      "cell_type": "code",
      "metadata": {
        "id": "qolkxodHXz3Q",
        "colab_type": "code",
        "colab": {}
      },
      "source": [
        "make_multi_LineGraph(dep_g, True)\n"
      ],
      "execution_count": 0,
      "outputs": []
    },
    {
      "cell_type": "markdown",
      "metadata": {
        "id": "r9B2dX1Rn7Zl",
        "colab_type": "text"
      },
      "source": [
        "### Liabilities"
      ]
    },
    {
      "cell_type": "code",
      "metadata": {
        "id": "9_ciDtA9n_F9",
        "colab_type": "code",
        "colab": {}
      },
      "source": [
        "#hide-input\n",
        "\n",
        "make_multi_LineGraph(clab_g, False)"
      ],
      "execution_count": 0,
      "outputs": []
    },
    {
      "cell_type": "markdown",
      "metadata": {
        "id": "iy9jJ9LjoPhO",
        "colab_type": "text"
      },
      "source": [
        "### Liabilities Vs Equity"
      ]
    },
    {
      "cell_type": "code",
      "metadata": {
        "id": "GMtOV30hoR9V",
        "colab_type": "code",
        "colab": {}
      },
      "source": [
        "#hide-input\n",
        "\n",
        "make_multi_LineGraph(le, False)\n"
      ],
      "execution_count": 0,
      "outputs": []
    },
    {
      "cell_type": "code",
      "metadata": {
        "id": "wf_u9-Q9U2au",
        "colab_type": "code",
        "colab": {}
      },
      "source": [
        "#hide-input\n",
        "\n",
        "make_multi_LineGraph(le, True)\n"
      ],
      "execution_count": 0,
      "outputs": []
    },
    {
      "cell_type": "markdown",
      "metadata": {
        "id": "AAlDZcMQCyvf",
        "colab_type": "text"
      },
      "source": [
        "## Cash Flows"
      ]
    },
    {
      "cell_type": "code",
      "metadata": {
        "id": "l0DKCSPWE3_D",
        "colab_type": "code",
        "colab": {}
      },
      "source": [
        "#hide-input\n",
        "\n",
        "\n",
        "cash"
      ],
      "execution_count": 0,
      "outputs": []
    },
    {
      "cell_type": "code",
      "metadata": {
        "id": "tn42LiOsVmg9",
        "colab_type": "code",
        "colab": {}
      },
      "source": [
        "#hide\n",
        "df = formatStmnt(cash)\n",
        "metricList = df[df.columns[1]].unique()\n",
        "\n",
        "for i in metricList:\n",
        "  print(str('\"'+i+'\"'),',')\n"
      ],
      "execution_count": 0,
      "outputs": []
    },
    {
      "cell_type": "code",
      "metadata": {
        "id": "Cn_iBFCMYwWg",
        "colab_type": "code",
        "colab": {}
      },
      "source": [
        "vects = [\n",
        "         \"Depreciation & Amortization\" ,\n",
        "\"Stock-based compensation\" ,\n",
        "\"Operating Cash Flow\" ,\n",
        "\"Capital Expenditure\" ,\n",
        "\"Acquisitions and disposals\" ,\n",
        "\"Investment purchases and sales\" ,\n",
        "\"Investing Cash flow\" ,\n",
        "\"Issuance (repayment) of debt\" ,\n",
        "\"Issuance (buybacks) of shares\" ,\n",
        "\"Dividend payments\" ,\n",
        "\n",
        "\n",
        "\"Financing Cash Flow\" ,\n",
        "\n",
        "\n",
        "\"Effect of forex changes on cash\" ,\n",
        "\"Net cash flow / Change in cash\" ,\n",
        "\"Free Cash Flow\" ,\n",
        "\"Net Cash/Marketcap\" ,\n",
        "\n",
        "\n",
        "]\n",
        "\n",
        "\n",
        "outflows = [ \"Depreciation & Amortization\" ,\n",
        "\"Stock-based compensation\" ,\"Dividend payments\" ,\"Capital Expenditure\" ,\"Issuance (repayment) of debt\" ,\n",
        "\"Issuance (buybacks) of shares\" ,\"Effect of forex changes on cash\" ,]\n",
        "\n",
        "flows = [\"Operating Cash Flow\" ,\"Acquisitions and disposals\" ,\n",
        "\"Investment purchases and sales\" , \"Investing Cash flow\" ,\"Financing Cash Flow\" ,\"Free Cash Flow\" ,\n",
        "]\n",
        "\n",
        "ratios = [\"Net cash flow / Change in cash\" ,\"Net Cash/Marketcap\" ,\n",
        "\n",
        "\n",
        "]\n",
        "\n",
        "     \n",
        "\n",
        "out_g = df[df['Metric'].isin(outflows)]\n",
        "flow_g = df[df['Metric'].isin(flows)]\n",
        "ratio_g = df[df['Metric'].isin(ratios)]"
      ],
      "execution_count": 0,
      "outputs": []
    },
    {
      "cell_type": "markdown",
      "metadata": {
        "id": "UGmZiRDwZxLj",
        "colab_type": "text"
      },
      "source": [
        "### Outflows\n",
        "\n",
        "\n",
        "\n"
      ]
    },
    {
      "cell_type": "code",
      "metadata": {
        "id": "mnZKcihXZycA",
        "colab_type": "code",
        "colab": {}
      },
      "source": [
        "make_multi_LineGraph(out_g, False)"
      ],
      "execution_count": 0,
      "outputs": []
    },
    {
      "cell_type": "code",
      "metadata": {
        "id": "NZv6MnV-aJk0",
        "colab_type": "code",
        "colab": {}
      },
      "source": [
        "make_multi_LineGraph(out_g, True)"
      ],
      "execution_count": 0,
      "outputs": []
    },
    {
      "cell_type": "markdown",
      "metadata": {
        "id": "1bkklcc3aM87",
        "colab_type": "text"
      },
      "source": [
        "### Other Cash Flows\n"
      ]
    },
    {
      "cell_type": "code",
      "metadata": {
        "id": "EtYBGSmQaZhp",
        "colab_type": "code",
        "colab": {}
      },
      "source": [
        "make_multi_LineGraph(flow_g, False)"
      ],
      "execution_count": 0,
      "outputs": []
    },
    {
      "cell_type": "code",
      "metadata": {
        "id": "kuMNkCzUaeyB",
        "colab_type": "code",
        "colab": {}
      },
      "source": [
        "make_multi_LineGraph(flow_g, True)"
      ],
      "execution_count": 0,
      "outputs": []
    },
    {
      "cell_type": "markdown",
      "metadata": {
        "id": "8NVkZgg1amvU",
        "colab_type": "text"
      },
      "source": [
        "### Ratios"
      ]
    },
    {
      "cell_type": "code",
      "metadata": {
        "id": "yzIeDdqJaoEz",
        "colab_type": "code",
        "colab": {}
      },
      "source": [
        "make_multi_LineGraph(ratio_g, False)"
      ],
      "execution_count": 0,
      "outputs": []
    },
    {
      "cell_type": "code",
      "metadata": {
        "id": "u8_Czex4arJB",
        "colab_type": "code",
        "colab": {}
      },
      "source": [
        "make_multi_LineGraph(ratio_g, True)"
      ],
      "execution_count": 0,
      "outputs": []
    },
    {
      "cell_type": "markdown",
      "metadata": {
        "id": "TaUcS3tTCybc",
        "colab_type": "text"
      },
      "source": [
        "# Peer Comparison"
      ]
    },
    {
      "cell_type": "code",
      "metadata": {
        "id": "hO0fDxBH08VG",
        "colab_type": "code",
        "colab": {}
      },
      "source": [
        "#hide\n",
        "import sys\n",
        "import requests\n",
        "import bs4\n",
        "res = requests.get('https://en.wikipedia.org/wiki/Russell_1000_Index')\n",
        "# res = requests.get(\"http://www.nationmaster.com/country-info/stats/Media/Internet-users\")\n",
        "soup = BeautifulSoup(res.content,'lxml')\n",
        "a1 = soup.find_all('table')\n",
        "getReturns = a1[2]\n",
        "getTickers = a1[3]\n",
        "# print(a1)\n",
        "\n",
        "\n",
        "\n",
        "df1 = pd.read_html(str(getReturns))\n",
        "AnnualReturns = df1[0]\n",
        "# a1 = soup.find_all('table')[3]\n",
        "df2 = pd.read_html(str(getTickers))\n",
        "print(len(df2))\n",
        "russ1kList = df2[0]\n",
        "\n"
      ],
      "execution_count": 0,
      "outputs": []
    },
    {
      "cell_type": "code",
      "metadata": {
        "id": "5X09VyJI9SAo",
        "colab_type": "code",
        "colab": {}
      },
      "source": [
        "#hide\n",
        "IWB_comps = list(russ1kList['Ticker'])"
      ],
      "execution_count": 0,
      "outputs": []
    },
    {
      "cell_type": "code",
      "metadata": {
        "id": "Q_7XqGc47QWB",
        "colab_type": "code",
        "colab": {}
      },
      "source": [
        ""
      ],
      "execution_count": 0,
      "outputs": []
    },
    {
      "cell_type": "code",
      "metadata": {
        "id": "8fcf9XNR5u9B",
        "colab_type": "code",
        "colab": {}
      },
      "source": [
        "#hide\n",
        "import random\n",
        "randomSample = []\n",
        "\n",
        "# simuls = 30\n",
        "\n",
        "\n",
        "# for i in range(simuls):\n",
        "#   secure_random = random.SystemRandom()\n",
        "#   a = secure_random.choice(IWB_comps)\n",
        "#   randomSample.append(a)\n",
        "#   # print(a)\n",
        "# for i in tickerList:\n",
        "#   randomSample.append(i)"
      ],
      "execution_count": 0,
      "outputs": []
    },
    {
      "cell_type": "code",
      "metadata": {
        "id": "v5-LYkpADn69",
        "colab_type": "code",
        "colab": {}
      },
      "source": [
        "#hide\n",
        "yfStatsComp = yf_summaryTable(randomSample)\n",
        "sumTable = pd.DataFrame.from_records(yfStatsComp)"
      ],
      "execution_count": 0,
      "outputs": []
    },
    {
      "cell_type": "code",
      "metadata": {
        "id": "EtJOH_aTDmIS",
        "colab_type": "code",
        "colab": {}
      },
      "source": [
        "#hide\n",
        "new = sumTable.transpose()\n",
        "new.columns"
      ],
      "execution_count": 0,
      "outputs": []
    },
    {
      "cell_type": "markdown",
      "metadata": {
        "id": "xK9I80oBF5bL",
        "colab_type": "text"
      },
      "source": [
        ""
      ]
    },
    {
      "cell_type": "code",
      "metadata": {
        "id": "AA6CtN7yq86q",
        "colab_type": "code",
        "colab": {}
      },
      "source": [
        "#hide\n",
        "vects= ['Index', \n",
        "        'P/E', \n",
        "        'EPS (ttm)', \n",
        "        'Insider Own',\n",
        "        'Shs Outstand',\n",
        "        'Perf Week',\n",
        "        'Market Cap', \n",
        "        'Forward P/E',\n",
        "        'EPS next Y',\n",
        "        'Insider Trans',\n",
        "        'Shs Float', \n",
        "        'Perf Month',\n",
        "        'Income',\n",
        "        'PEG',\n",
        "        'EPS next Q',\n",
        "        'Inst Own', \n",
        "        'Short Float',\n",
        "        'Perf Quarter',\n",
        "        'Sales',\n",
        "        'P/S',\n",
        "        'EPS this Y',\n",
        "        'Inst Trans',\n",
        "        'Short Ratio',\n",
        "        'Perf Half Y',\n",
        "        'Book/sh',\n",
        "        'P/B',\n",
        "        'ROA',\n",
        "        'Target Price',\n",
        "        'Perf Year',\n",
        "        'Cash/sh',\n",
        "        'P/C',\n",
        "        'EPS next 5Y',\n",
        "        'ROE',\n",
        "        '52W Range',\n",
        "        'Perf YTD', \n",
        "        'Dividend', \n",
        "        'P/FCF',\n",
        "        'EPS past 5Y', \n",
        "        'ROI',\n",
        "        '52W High',\n",
        "        'Beta', \n",
        "        'Dividend %',\n",
        "        'Quick Ratio',\n",
        "        'Sales past 5Y',\n",
        "        'Gross Margin',\n",
        "        '52W Low',\n",
        "        'ATR',\n",
        "        'Employees',\n",
        "        'Current Ratio',\n",
        "        'Sales Q/Q',\n",
        "        'Oper. Margin',\n",
        "        'RSI (14)',\n",
        "        'Volatility',\n",
        "        'Optionable',\n",
        "        'Debt/Eq',\n",
        "        'EPS Q/Q', \n",
        "        'Profit Margin',\n",
        "        'Rel Volume',\n",
        "        'Prev Close',\n",
        "        'Shortable',\n",
        "        'LT Debt/Eq',\n",
        "        'Earnings',\n",
        "        'Payout',\n",
        "        'Avg Volume',\n",
        "        'Price',\n",
        "        'Recom', \n",
        "        'SMA20',\n",
        "        'SMA50',\n",
        "        'SMA200',\n",
        "        'Volume',\n",
        "        'Change']"
      ],
      "execution_count": 0,
      "outputs": []
    },
    {
      "cell_type": "code",
      "metadata": {
        "id": "d-cnxgkQpyLN",
        "colab_type": "code",
        "colab": {}
      },
      "source": [
        "#hide\n",
        "!pip install finviz\n",
        "import finviz\n",
        "recs = []\n",
        "xyz= 0\n",
        "for i in tickerList:\n",
        "    try:\n",
        "      hold = [i]\n",
        "      for b in (finviz.get_stock(i)):\n",
        "        colls = (list((finviz.get_stock(i)).keys()))\n",
        "        hold.append(finviz.get_stock(i)[b])\n",
        "      recs.append(hold)\n",
        "    except BaseException as e:\n",
        "      print(e, \"could not find\", i)\n",
        "print(colls)\n"
      ],
      "execution_count": 0,
      "outputs": []
    },
    {
      "cell_type": "code",
      "metadata": {
        "id": "LDxa1jP10U3j",
        "colab_type": "code",
        "colab": {}
      },
      "source": [
        "#hide\n",
        "listCols = (list(['Ticker']))\n",
        "for i in colls:\n",
        "  # print(i)\n",
        "  listCols.append(i)\n",
        "\n",
        "print(listCols)\n",
        "bigTable = pd.DataFrame.from_records(recs, columns=listCols)\n"
      ],
      "execution_count": 0,
      "outputs": []
    },
    {
      "cell_type": "markdown",
      "metadata": {
        "id": "jUfXVQlufaLB",
        "colab_type": "text"
      },
      "source": [
        "## Big Comp Table"
      ]
    },
    {
      "cell_type": "code",
      "metadata": {
        "id": "nBXDiU5Dz7WU",
        "colab_type": "code",
        "colab": {}
      },
      "source": [
        "#hide-input\n",
        "\n",
        "\n",
        "bigTable"
      ],
      "execution_count": 0,
      "outputs": []
    },
    {
      "cell_type": "code",
      "metadata": {
        "id": "DWggMqQwwjW5",
        "colab_type": "code",
        "colab": {}
      },
      "source": [
        "#hide\n",
        "# import numpy as np \n",
        "# from pandas import DataFrame\n",
        "# import matplotlib.pyplot as plt\n",
        "\n",
        "\n",
        "# plt.pcolor(bigTable)\n",
        "# plt.yticks(np.arange(0.5, len(df.index), 1), bigTable.index)\n",
        "# plt.xticks(np.arange(0.5, len(df.columns), 1), bigTable.columns)\n",
        "# plt.show()"
      ],
      "execution_count": 0,
      "outputs": []
    },
    {
      "cell_type": "markdown",
      "metadata": {
        "id": "fQEGvLRtpwvb",
        "colab_type": "text"
      },
      "source": [
        ""
      ]
    },
    {
      "cell_type": "markdown",
      "metadata": {
        "id": "1PmCCNYdoyCs",
        "colab_type": "text"
      },
      "source": [
        ""
      ]
    },
    {
      "cell_type": "markdown",
      "metadata": {
        "id": "dQIpstbs1uD5",
        "colab_type": "text"
      },
      "source": [
        ""
      ]
    },
    {
      "cell_type": "code",
      "metadata": {
        "id": "FojQ6KBay9MJ",
        "colab_type": "code",
        "colab": {}
      },
      "source": [
        "  # hide\n",
        "  # new_header = df.iloc[0] #grab the first row for the header\n",
        "  # df = df[1:] #take the data less the header row\n",
        "  # df.columns = new_header #set the header row as the df header "
      ],
      "execution_count": 0,
      "outputs": []
    },
    {
      "cell_type": "code",
      "metadata": {
        "id": "w4qVkbPdzPzW",
        "colab_type": "code",
        "colab": {}
      },
      "source": [
        "#hide\n",
        "#PE data http://www.stern.nyu.edu/~adamodar/pc/datasets/pedata.xls\n",
        "#\n",
        "#\n",
        "#\n",
        "#"
      ],
      "execution_count": 0,
      "outputs": []
    },
    {
      "cell_type": "markdown",
      "metadata": {
        "id": "16UqPPUDCyJn",
        "colab_type": "text"
      },
      "source": [
        "Market Value"
      ]
    },
    {
      "cell_type": "markdown",
      "metadata": {
        "id": "poGGl1U6Cx2q",
        "colab_type": "text"
      },
      "source": [
        "Enterprise Value"
      ]
    },
    {
      "cell_type": "markdown",
      "metadata": {
        "id": "W8iyg05tCnHK",
        "colab_type": "text"
      },
      "source": [
        "Leverage"
      ]
    },
    {
      "cell_type": "markdown",
      "metadata": {
        "id": "he7KDRjhCs_O",
        "colab_type": "text"
      },
      "source": [
        ""
      ]
    },
    {
      "cell_type": "markdown",
      "metadata": {
        "id": "cnL2w7iWsKGx",
        "colab_type": "text"
      },
      "source": [
        "# DCF Valuation"
      ]
    },
    {
      "cell_type": "code",
      "metadata": {
        "id": "BGKBh04R3gq_",
        "colab_type": "code",
        "colab": {}
      },
      "source": [
        "#hide\n",
        "!pip install pyfinmod"
      ],
      "execution_count": 0,
      "outputs": []
    },
    {
      "cell_type": "code",
      "metadata": {
        "id": "kvuGLXXySAr1",
        "colab_type": "code",
        "colab": {}
      },
      "source": [
        "#hide\n",
        "\n",
        "\n",
        "from pyfinmod.financials import Financials\n",
        "from pyfinmod.ev import fcf, enterprise_value\n",
        "\n",
        "from pyfinmod.financials import Financials\n",
        "\n",
        "from pyfinmod.financials import Financials\n",
        "from pyfinmod.wacc import total_debt\n",
        "\n",
        "from pyfinmod.financials import Financials\n",
        "from pyfinmod.wacc import tax_rate\n",
        "\n",
        "\n",
        "\n",
        "\n",
        "\n",
        "from pyfinmod.financials import Financials\n",
        "from pyfinmod.wacc import cost_of_debt\n",
        "\n",
        "from pyfinmod.financials import Financials\n",
        "from pyfinmod.wacc import cost_of_equity\n",
        "\n",
        "# RFR = .01\n",
        "# mkt_return = .09\n",
        "# LR_g =.1\n",
        "# SR_g = .1 + LR_g\n",
        "\n",
        "# print((RFR,mkt_return,SR_g,LR_g))\n",
        "\n",
        "\n",
        "\n",
        "\n",
        "# lec = (new.loc['Weighted Average Shs Out'][0])\n",
        "\n",
        "# eq = parser.balance_sheet_statement.loc['Total liabilities'][0]\n",
        "\n",
        "\n",
        "\n",
        "\n",
        "# Calculate WACC\n",
        "\n",
        "\n",
        "parser = Financials(subjectCompany)\n",
        "from pyfinmod.wacc import wacc\n",
        "\n",
        "from pyfinmod.ev import dcf, fcf\n",
        "from pyfinmod.financials import Financials\n",
        "\n",
        "def fcf_dcf_using_wacc(RFR,mkt_return,SR_g,LR_g, shock, subjectCompany=subjectCompany):\n",
        "  # print(fcf_dcf_using_wacc(RFR,mkt_return,SR_g,LR_g))\n",
        "  parser = Financials(subjectCompany)\n",
        "  lec = (parser.balance_sheet_statement.iloc[-5::5])\n",
        "\n",
        "  for i in lec.itertuples():\n",
        "    ec = (i._1)\n",
        "    break\n",
        "\n",
        "\n",
        "  parser = Financials(subjectCompany)\n",
        "  parser.income_statement.columns\n",
        "  currentPrice = parser.price\n",
        "\n",
        "\n",
        "  parser = Financials(subjectCompany)\n",
        "  ev = enterprise_value(parser.balance_sheet_statement)[0]\n",
        "  ecToev = ec / ev\n",
        "  equitys_share = (1-ecToev)\n",
        "\n",
        "\n",
        "\n",
        "\n",
        "\n",
        "\n",
        "  parser = Financials(subjectCompany)\n",
        "  fcf_value = fcf(parser.cash_flow_statement)\n",
        "  total_debt(parser.balance_sheet_statement)\n",
        "  tax_rate(parser.income_statement)\n",
        "  parser.mktCap\n",
        "\n",
        "\n",
        "\n",
        "  # cost_of_debt(parser.balance_sheet_statement, parser.income_statement)\n",
        "\n",
        "  # cost_of_equity(float(parser.beta), risk_free_interest_rate = RFR, market_return = mkt_return)\n",
        "  parser = Financials(subjectCompany)\n",
        "\n",
        "  aapl_wacc = wacc(parser.mktCap,\n",
        "                  parser.balance_sheet_statement,\n",
        "                  parser.income_statement,\n",
        "                  float(parser.beta),\n",
        "                  risk_free_interest_rate=RFR,\n",
        "                  market_return=mkt_return)\n",
        "  \n",
        "\n",
        "  parser = Financials(subjectCompany)\n",
        "  if shock:\n",
        "    output = dcf_n1Shock(fcf(parser.cash_flow_statement), aapl_wacc, shock, short_term_growth=SR_g, long_term_growth=LR_g)\n",
        "  else:\n",
        "    output = dcf(fcf(parser.cash_flow_statement), aapl_wacc, short_term_growth=SR_g, long_term_growth=LR_g)\n",
        "  \n",
        "  value_per_share = output / (parser.income_statement.loc['Weighted Average Shs Out'][0])\n",
        "\n",
        "  pps = equitys_share * value_per_share\n",
        "\n",
        "  IR = ((pps - currentPrice) / currentPrice)*100\n",
        "\n",
        "  out = (value_per_share, pps, SR_g, LR_g, IR)\n",
        "  return (out)\n",
        "  # return float(value_per_share)\n"
      ],
      "execution_count": 0,
      "outputs": []
    },
    {
      "cell_type": "markdown",
      "metadata": {
        "id": "BmL6SOEvjYav",
        "colab_type": "text"
      },
      "source": [
        "Generating a range of growth rate scenarios:"
      ]
    },
    {
      "cell_type": "code",
      "metadata": {
        "id": "RWHPPyB57Nab",
        "colab_type": "code",
        "colab": {}
      },
      "source": [
        "#collapse-hide\n",
        "SR_g_scenarios = np.linspace(-.03,.04,15,endpoint=False)\n",
        "print(SR_g_scenarios)\n"
      ],
      "execution_count": 0,
      "outputs": []
    },
    {
      "cell_type": "markdown",
      "metadata": {
        "id": "BepxPNQG8Ii7",
        "colab_type": "text"
      },
      "source": [
        "### DCF Growth Rate Scenario"
      ]
    },
    {
      "cell_type": "code",
      "metadata": {
        "id": "U3TgpVey8OMs",
        "colab_type": "code",
        "colab": {}
      },
      "source": [
        "#hide\n",
        "parser = Financials(subjectCompany)\n",
        "parser.income_statement.columns\n",
        "\n",
        "currentPrice = parser.price\n",
        "colz = ('Firm Value/Share ($)','Equity Value/Share ($)', 'SR CAGR', 'LR CAGR', 'Implied ROI (%)')\n",
        "\n",
        "records_dcf_1 = [colz]\n",
        "print(\"Current Price:\", currentPrice)\n",
        "RFR = .02\n",
        "mkt_return = .12\n",
        "for i in range(len(SR_g_scenarios)):\n",
        "  SR_g = SR_g_scenarios[i]\n",
        "  LR_g = .01\n",
        "  records_dcf_1.append(fcf_dcf_using_wacc(RFR,mkt_return,SR_g,LR_g, False))\n",
        "  # print(records_dcf_1)\n",
        "  print(\"Done computing \", (i + 1), ' DCF out of ',len(SR_g_scenarios))\n",
        "\n",
        "dcf_growth_rates_outputs = pd.DataFrame.from_records(records_dcf_1, columns = list(records_dcf_1[0]))\n",
        "\n"
      ],
      "execution_count": 0,
      "outputs": []
    },
    {
      "cell_type": "code",
      "metadata": {
        "id": "dIFTZcttU2yk",
        "colab_type": "code",
        "colab": {}
      },
      "source": [
        "#hide-input\n",
        "\n",
        "ind = (dcf_growth_rates_outputs.columns[4])\n",
        "dcf_growth_rates_outputs"
      ],
      "execution_count": 0,
      "outputs": []
    },
    {
      "cell_type": "markdown",
      "metadata": {
        "id": "DRpwLRHPauEq",
        "colab_type": "text"
      },
      "source": [
        "Seems to do a decent job, however this does not take into account the shock from coronavirus which will probably hurt revenues next year. We will modifiy the discounted cash flow formula to include a shock to FCF in the first year."
      ]
    },
    {
      "cell_type": "code",
      "metadata": {
        "id": "kCB_LSLWbITe",
        "colab_type": "code",
        "colab": {}
      },
      "source": [
        "#hide\n",
        "from pyfinmod.basic import npv\n",
        "from math import sqrt\n",
        "\n",
        "def dcf_n1Shock(fcfs, wacc, SHOCK, short_term_growth, long_term_growth):\n",
        "    latest_fcf_date = fcfs.index.max()\n",
        "    dates = pd.date_range(latest_fcf_date, periods=6, freq=\"365D\")[1:]\n",
        "    future_cash_flows = [fcfs[latest_fcf_date]]\n",
        "    for i in range(5): # 5?\n",
        "        # print(i)\n",
        "        # print(SHOCK)\n",
        "        if i == 0:        \n",
        "          next_year_fcf = future_cash_flows[-1] * (1 + short_term_growth)\n",
        "          future_cash_flows.append(next_year_fcf*SHOCK)\n",
        "\n",
        "        else:\n",
        "            \n",
        "          next_year_fcf = future_cash_flows[-1] * (1 + short_term_growth)\n",
        "          future_cash_flows.append(next_year_fcf)\n",
        "\n",
        "\n",
        "\n",
        "    future_cash_flows = future_cash_flows[1:]\n",
        "    df = pd.DataFrame(data={\"fcf\": future_cash_flows, \"date\": dates})\n",
        "    # df.set_index('date', inplace=True)\n",
        "    df[\"terminal value\"] = 0\n",
        "    last_index = df.index[-1]\n",
        "    last_short_term_fcf = df.at[last_index, \"fcf\"]\n",
        "    df.at[last_index, \"terminal value\"] = (\n",
        "        last_short_term_fcf * (1 + long_term_growth) / (wacc - long_term_growth)\n",
        "    )\n",
        "    df[\"cash flow\"] = df[[\"fcf\", \"terminal value\"]].apply(sum, axis=1)\n",
        "    return npv(df, wacc) * sqrt((1 + wacc))\n",
        "\n",
        "parser = Financials(subjectCompany)\n",
        "parser.income_statement.columns\n",
        "\n",
        "currentPrice = parser.price\n",
        "colz = ('Firm Value/Share ($)','Equity Value/Share ($)', 'SR CAGR', 'LR CAGR', 'Implied ROI (%)')\n",
        "\n",
        "records_dcf_1 = [colz]\n",
        "print(\"Current Price:\", currentPrice)\n",
        "RFR = .02\n",
        "mkt_return = .12\n",
        "for i in range(len(SR_g_scenarios)):\n",
        "  SR_g = SR_g_scenarios[i]\n",
        "  LR_g = .01\n",
        "  records_dcf_1.append(fcf_dcf_using_wacc(RFR,mkt_return,SR_g,LR_g, 1/2))\n",
        "  # print(records_dcf_1)\n",
        "  print(\"Done computing \", (i + 1), ' DCF out of ',len(SR_g_scenarios))\n",
        "\n",
        "dcf_growth_rates_outputs_shock = pd.DataFrame.from_records(records_dcf_1, columns = list(records_dcf_1[0]))\n",
        "\n"
      ],
      "execution_count": 0,
      "outputs": []
    },
    {
      "cell_type": "code",
      "metadata": {
        "id": "ibTL51oXd5ZX",
        "colab_type": "code",
        "colab": {}
      },
      "source": [
        "#hide-input\n",
        "dcf_growth_rates_outputs_shock"
      ],
      "execution_count": 0,
      "outputs": []
    },
    {
      "cell_type": "markdown",
      "metadata": {
        "id": "zRW-kjKCeYCm",
        "colab_type": "text"
      },
      "source": [
        "## DCF Peer Comparison"
      ]
    },
    {
      "cell_type": "code",
      "metadata": {
        "id": "itG7jAtzeeav",
        "colab_type": "code",
        "colab": {}
      },
      "source": [
        "#hide\n",
        "parser = Financials(subjectCompany)\n",
        "parser.income_statement.columns\n",
        "\n",
        "currentPrice = parser.price\n",
        "colz = ('Firm Value/Share ($)','Equity Value/Share ($)', 'SR CAGR', 'LR CAGR', 'Implied ROI (%)')\n",
        "\n",
        "records_dcf_2 = []\n",
        "print(\"Current Price:\", currentPrice)\n",
        "RFR = .02\n",
        "mkt_return = .12\n",
        "LR_g = .01\n",
        "SR_g = .02\n",
        "for i in tickerList:\n",
        "  records_dcf_2.append(fcf_dcf_using_wacc(RFR,mkt_return,SR_g,LR_g, .5, i))\n",
        "  # print(records_dcf_1)\n",
        "\n",
        "\n",
        "peer_dcf = pd.DataFrame.from_records(records_dcf_2, columns = list(records_dcf_1[0]))\n",
        "\n",
        "peer_dcf['ticker'] = tickerList\n",
        "peer_dcf.set_index('ticker', inplace=True)"
      ],
      "execution_count": 0,
      "outputs": []
    },
    {
      "cell_type": "code",
      "metadata": {
        "id": "VAd7hiqpg3JD",
        "colab_type": "code",
        "colab": {}
      },
      "source": [
        "#hide-input\n",
        "peer_dcf"
      ],
      "execution_count": 0,
      "outputs": []
    },
    {
      "cell_type": "markdown",
      "metadata": {
        "id": "lP8vJMtP4D0P",
        "colab_type": "text"
      },
      "source": [
        "## Historical DCF Scenario Backtest Analysis Using Differint Bases (Work In Progress.)\n",
        "\n",
        "(WIP -- NEED TO DO MORE CODE BUT THIS WILL HOW HOW ACCURATE OUR MODELS ARE OVER TIME AND WHAT EARNINGS BASE MAKE THE BEST ESTIMATORS FOR THIS FIRM)"
      ]
    },
    {
      "cell_type": "code",
      "metadata": {
        "id": "vdYMgnbu4H8-",
        "colab_type": "code",
        "colab": {}
      },
      "source": [
        "from google.colab import drive\n",
        "import sys\n",
        "\n"
      ],
      "execution_count": 0,
      "outputs": []
    },
    {
      "cell_type": "code",
      "metadata": {
        "id": "lHufAnhD6x_E",
        "colab_type": "code",
        "colab": {}
      },
      "source": [
        "#hide\n",
        "'''\n",
        "Utilizing financialmodelingprep.com for their free-endpoint API\n",
        "to gather company financials.\n",
        "\n",
        "NOTE: Some code taken directly from their documentation. See: https://financialmodelingprep.com/developer/docs/. \n",
        "'''\n",
        "\n",
        "from urllib.request import urlopen\n",
        "import json\n",
        "\n",
        "def get_jsonparsed_data(url):\n",
        "    '''\n",
        "    Fetch url, return parsed json. \n",
        "\n",
        "    args:\n",
        "        url: the url to fetch.\n",
        "    \n",
        "    returns:\n",
        "        parsed json\n",
        "    '''\n",
        "    response = urlopen(url)\n",
        "    data = response.read().decode('utf-8')\n",
        "    return json.loads(data)\n",
        "\n",
        "def get_EV_statement(ticker, period = 'annual'):\n",
        "    '''\n",
        "    Fetch EV statement, with details like total shares outstanding, from FMP.com\n",
        "\n",
        "    args:\n",
        "        ticker: company tickerr\n",
        "    returns:\n",
        "        parsed EV statement\n",
        "    '''\n",
        "    if period == 'annual':\n",
        "        url = 'https://financialmodelingprep.com/api/v3/enterprise-value/{}'.format(ticker)\n",
        "    elif period == 'quarter':\n",
        "        url = 'https://financialmodelingprep.com/api/v3/enterprise-value/{}?period=quarter'.format(ticker)\n",
        "    return get_jsonparsed_data(url)\n",
        "\n",
        "#! TODO: maybe combine these with argument flag for which statement, seems pretty redundant tbh\n",
        "def get_income_statement(ticker, period = 'annual'):\n",
        "    '''\n",
        "    Fetch income statement.\n",
        "\n",
        "    args:\n",
        "        ticker: company ticker.\n",
        "        period: annual default, can fetch quarterly if specified. \n",
        "\n",
        "    returns:\n",
        "        parsed company's income statement\n",
        "    '''\n",
        "    if period == 'annual':\n",
        "        url = 'https://financialmodelingprep.com/api/v3/financials/income-statement/{}'.format(ticker)\n",
        "    elif period == 'quarter':\n",
        "        url = 'https://financialmodelingprep.com/api/v3/financials/income-statement/{}?period=quarter'.format(ticker)\n",
        "    else:\n",
        "        raise ValueError(\"in get_income_statement: invalid period\")     # may as well throw...\n",
        "\n",
        "    return get_jsonparsed_data(url)\n",
        "\n",
        "\n",
        "def get_cashflow_statement(ticker, period = 'annual'):\n",
        "    '''\n",
        "    Fetch cashflow statement.\n",
        "\n",
        "    args:\n",
        "        ticker: company ticker.\n",
        "        period: annual default, can fetch quarterly if specified. \n",
        "\n",
        "    returns:\n",
        "        parsed company's cashflow statement\n",
        "    '''\n",
        "    if period == 'annual':\n",
        "        url = 'https://financialmodelingprep.com/api/v3/financials/cash-flow-statement/{}'.format(ticker)\n",
        "    elif period == 'quarter':\n",
        "        url = 'https://financialmodelingprep.com/api/v3/financials/cash-flow-statement/{}?period=quarter'.format(ticker)\n",
        "    else:\n",
        "        raise ValueError(\"in get_cashflow_statement: invalid period\")     # may as well throw...\n",
        "\n",
        "    return get_jsonparsed_data(url)\n",
        "\n",
        "def get_balance_statement(ticker, period = 'annual'):\n",
        "    '''\n",
        "    Fetch balance sheet statement.\n",
        "\n",
        "    args:\n",
        "        ticker: company ticker.\n",
        "        period: annual default, can fetch quarterly if specified. \n",
        "\n",
        "    returns:\n",
        "        parsed company's balance sheet statement\n",
        "    '''\n",
        "    if period == 'annual':\n",
        "        url = 'https://financialmodelingprep.com/api/v3/financials/balance-sheet-statement/{}'.format(ticker)\n",
        "    elif period == 'quarter':\n",
        "        url = 'https://financialmodelingprep.com/api/v3/financials/balance-sheet-statement/{}?period=quarter'.format(ticker)\n",
        "    else:\n",
        "        raise ValueError(\"in get_balancesheet_statement: invalid period\")     # may as well throw...\n",
        "\n",
        "    return get_jsonparsed_data(url)\n",
        "\n",
        "def get_stock_price(ticker):\n",
        "    '''\n",
        "    Fetches the stock price for a ticker\n",
        "\n",
        "    args:\n",
        "        ticker\n",
        "    \n",
        "    returns:\n",
        "        {'symbol': ticker, 'price': price}\n",
        "    '''\n",
        "    url = 'https://financialmodelingprep.com/api/v3/stock/real-time-price/{}'.format(ticker)\n",
        "    return get_jsonparsed_data(url)\n",
        "\n",
        "def get_batch_stock_prices(tickers):\n",
        "    '''\n",
        "    Fetch the stock prices for a list of tickers.\n",
        "\n",
        "    args:\n",
        "        tickers: a list of  tickers........\n",
        "    \n",
        "    returns:\n",
        "        dict of {'ticker':  price}\n",
        "    '''\n",
        "    prices = {}\n",
        "    for ticker in tickers:\n",
        "        prices[ticker] = get_stock_price(ticker)['price']\n",
        "\n",
        "    return prices\n",
        "\n",
        "def get_historical_share_prices(ticker, dates):\n",
        "    '''\n",
        "    Fetch the stock price for a ticker at the dates listed.\n",
        "\n",
        "    args:\n",
        "        ticker: a ticker.\n",
        "        dates: a list of dates from which to fetch close price.\n",
        "\n",
        "    returns:\n",
        "        {'date': price, ...}\n",
        "    '''\n",
        "    prices = {}\n",
        "    for date in dates:\n",
        "        date_start, date_end = date[0:8] + str(int(date[8:]) - 2), date\n",
        "        url = 'https://financialmodelingprep.com/api/v3/historical-price-full/{}?from={}&to={}'.format(ticker, date_start, date_end)\n",
        "        try:\n",
        "            prices[date_end] = get_jsonparsed_data(url)['historical'][0]['close']\n",
        "        except IndexError:\n",
        "            #  RIP nested try catch, so many issues with dates just try a bunch and get within range of earnings release\n",
        "            try:\n",
        "                prices[date_start] = get_jsonparsed_data(url)['historical'][0]['close']\n",
        "            except IndexError:\n",
        "                print(date + ' ', get_jsonparsed_data(url))\n",
        "\n",
        "    return prices"
      ],
      "execution_count": 0,
      "outputs": []
    },
    {
      "cell_type": "code",
      "metadata": {
        "id": "sX_AJ8q869Yc",
        "colab_type": "code",
        "colab": {}
      },
      "source": [
        "#hide\n",
        "import argparse\n",
        "from decimal import Decimal\n",
        "\n",
        "\n",
        "def DCF(ticker, ev_statement, income_statement, balance_statement, cashflow_statement, discount_rate, forecast, earnings_growth_rate, cap_ex_growth_rate, perpetual_growth_rate):\n",
        "    '''\n",
        "    a very basic 2-stage DCF implemented for learning purposes.\n",
        "    see enterprise_value() for details on arguments. \n",
        "\n",
        "    args:\n",
        "        see enterprise value for more info...\n",
        "\n",
        "    returns:\n",
        "        dict: {'share price': __, 'enterprise_value': __, 'equity_value': __, 'date': __}\n",
        "        CURRENT DCF VALUATION. See historical_dcf to fetch a history. \n",
        "\n",
        "    '''\n",
        "    enterprise_val = enterprise_value(income_statement,\n",
        "                                        cashflow_statement,\n",
        "                                        balance_statement,\n",
        "                                        forecast, \n",
        "                                        discount_rate,\n",
        "                                        earnings_growth_rate, \n",
        "                                        cap_ex_growth_rate, \n",
        "                                        perpetual_growth_rate)\n",
        "\n",
        "    equity_val, share_price = equity_value(enterprise_val,\n",
        "                                           ev_statement)\n",
        "\n",
        "    print('\\nEnterprise Value for {}: ${}.'.format(ticker, '%.2E' % Decimal(str(enterprise_val))), \n",
        "              '\\nEquity Value for {}: ${}.'.format(ticker, '%.2E' % Decimal(str(equity_val))),\n",
        "           '\\nPer share value for {}: ${}.\\n'.format(ticker, '%.2E' % Decimal(str(share_price))),\n",
        "            '-'*60)\n",
        "\n",
        "    return {\n",
        "        'date': income_statement[0]['date'],       # statement date used\n",
        "        'enterprise_value': enterprise_val,\n",
        "        'equity_value': equity_val,\n",
        "        'share_price': share_price\n",
        "    }\n",
        "\n",
        "def historical_DCF(ticker, years, forecast, discount_rate, earnings_growth_rate, cap_ex_growth_rate, perpetual_growth_rate, interval = 'annual'):\n",
        "    '''\n",
        "    Wrap DCF to fetch DCF values over a historical timeframe, denoted period. \n",
        "\n",
        "    args:\n",
        "        same as DCF, except for\n",
        "        period: number of years to fetch DCF for\n",
        "\n",
        "    returns:\n",
        "        {'date': dcf, ..., 'date', dcf}\n",
        "    '''\n",
        "    dcfs = {}\n",
        "\n",
        "    income_statement = get_income_statement(ticker = ticker, period = interval)['financials'] \n",
        "    balance_statement = get_balance_statement(ticker = ticker, period = interval)['financials']\n",
        "    cashflow_statement = get_cashflow_statement(ticker = ticker, period = interval)['financials']\n",
        "    enterprise_value_statement = get_EV_statement(ticker = ticker, period = interval)['enterpriseValues']\n",
        "\n",
        "    if interval == 'quarter':\n",
        "        intervals = years * 4\n",
        "    else:\n",
        "        intervals = years\n",
        "\n",
        "    for interval in range(0, intervals):\n",
        "        try:\n",
        "            dcf = DCF(ticker, \n",
        "                    enterprise_value_statement[interval],\n",
        "                    income_statement[interval:interval+2],        # pass year + 1 bc we need change in working capital\n",
        "                    balance_statement[interval:interval+2],\n",
        "                    cashflow_statement[interval:interval+2],\n",
        "                    discount_rate,\n",
        "                    forecast, \n",
        "                    earnings_growth_rate,  \n",
        "                    cap_ex_growth_rate, \n",
        "                    perpetual_growth_rate)\n",
        "        except IndexError:\n",
        "            print('Interval {} unavailable, no historical statement.'.format(interval)) # catch\n",
        "        dcfs[dcf['date']] = dcf \n",
        "    \n",
        "    return dcfs\n",
        "\n",
        "def ulFCF(ebit, tax_rate, non_cash_charges, cwc, cap_ex):\n",
        "    '''\n",
        "    Formula to derive unlevered free cash flow to firm. Used in forecasting.\n",
        "\n",
        "    args:\n",
        "        ebit: Earnings before interest payments and taxes.\n",
        "        tax_rate: The tax rate a firm is expected to pay. Usually a company's historical effective rate.\n",
        "        non_cash_charges: Depreciation and amortization costs. \n",
        "        cwc: Annual change in net working capital.\n",
        "        cap_ex: capital expenditures, or what is spent to maintain zgrowth rate.\n",
        "\n",
        "    returns:\n",
        "        unlevered free cash flow\n",
        "    '''\n",
        "    return ebit * (1-tax_rate) + non_cash_charges + cwc + cap_ex\n",
        "\n",
        "def get_discount_rate():\n",
        "    '''\n",
        "    Calculate the Weighted Average Cost of Capital (WACC) for our company.\n",
        "    Used for consideration of existing capital structure.\n",
        "\n",
        "    args:\n",
        "    \n",
        "    returns:\n",
        "        W.A.C.C.\n",
        "    '''\n",
        "    return .1 # TODO: implement \n",
        "\n",
        "def equity_value(enterprise_value, enterprise_value_statement):\n",
        "    '''\n",
        "    Given an enterprise value, return the equity value by adjusting for cash/cash equivs. and total debt.\n",
        "\n",
        "    args:\n",
        "        enterprise_value: (EV = market cap + total debt - cash), or total value\n",
        "        enterprise_value_statement: information on debt & cash\n",
        "    \n",
        "    returns:\n",
        "        equity_value: (enterprise value - debt + cash)\n",
        "        share_price: equity value/shares outstanding\n",
        "    '''\n",
        "    equity_val = enterprise_value - enterprise_value_statement['+ Total Debt'] \n",
        "    equity_val += enterprise_value_statement['- Cash & Cash Equivalents']\n",
        "    share_price = equity_val/float(enterprise_value_statement['Number of Shares'])\n",
        "\n",
        "    return equity_val,  share_price\n",
        "\n",
        "def enterprise_value(income_statement, cashflow_statement, balance_statement, period, discount_rate, earnings_growth_rate, cap_ex_growth_rate, perpetual_growth_rate):\n",
        "    '''\n",
        "    Calculate enterprise value by NPV of explicit _period_ free cash flows + NPV of terminal value,\n",
        "    both discounted by W.A.C.C.\n",
        "\n",
        "    args:\n",
        "        ticker: company for forecasting\n",
        "        period: years into the future\n",
        "        earnings growth rate: assumed growth rate in earnings, YoY\n",
        "        cap_ex_growth_rate: assumed growth rate in cap_ex, YoY\n",
        "        perpetual_growth_rate: assumed growth rate in perpetuity for terminal value, YoY\n",
        "\n",
        "    returns:\n",
        "        enterprise value\n",
        "    '''\n",
        "    # XXX: statements are returned as historical list, 0 most recent\n",
        "    ebit = float(income_statement[0]['EBIT'])\n",
        "    tax_rate = float(income_statement[0]['Income Tax Expense']) /  \\\n",
        "               float(income_statement[0]['Earnings before Tax'])\n",
        "    non_cash_charges = float(cashflow_statement[0]['Depreciation & Amortization'])\n",
        "    cwc = (float(balance_statement[0]['Total assets']) - float(balance_statement[0]['Total non-current assets'])) - \\\n",
        "          (float(balance_statement[1]['Total assets']) - float(balance_statement[1]['Total non-current assets']))\n",
        "    cap_ex = float(cashflow_statement[0]['Capital Expenditure'])\n",
        "    discount = discount_rate\n",
        "\n",
        "    flows = []\n",
        "\n",
        "    # Now let's iterate through years to calculate FCF, starting with most recent year\n",
        "    print('Forecasting flows for {} years out, starting at {}.'.format(period, income_statement[0]['date']),\n",
        "         ('\\n         DFCF   |    EBIT   |    D&A    |    CWC     |   CAP_EX   | '))\n",
        "    for yr in range(1, period+1):    \n",
        "\n",
        "        # increment each value by growth rate\n",
        "        ebit = ebit * (1 + (yr * earnings_growth_rate))\n",
        "        non_cash_charges = non_cash_charges * (1 + (yr * earnings_growth_rate))\n",
        "        cwc = cwc * 0.7                             # TODO: evaluate this cwc rate? 0.1 annually?\n",
        "        cap_ex = cap_ex * (1 + (yr * cap_ex_growth_rate))         \n",
        "\n",
        "        # discount by WACC\n",
        "        flow = ulFCF(ebit, tax_rate, non_cash_charges, cwc, cap_ex)\n",
        "        PV_flow = flow/((1 + discount)**yr)\n",
        "        flows.append(PV_flow)\n",
        "\n",
        "        print(str(int(income_statement[0]['date'][0:4]) + yr) + '  ',\n",
        "              '%.2E' % Decimal(PV_flow) + ' | ',\n",
        "              '%.2E' % Decimal(ebit) + ' | ',\n",
        "              '%.2E' % Decimal(non_cash_charges) + ' | ',\n",
        "              '%.2E' % Decimal(cwc) + ' | ',\n",
        "              '%.2E' % Decimal(cap_ex) + ' | ')\n",
        "\n",
        "    NPV_FCF = sum(flows)\n",
        "    \n",
        "    # now calculate terminal value using perpetual growth rate\n",
        "    final_cashflow = flows[-1] * (1 + perpetual_growth_rate)\n",
        "    TV = final_cashflow/(discount - perpetual_growth_rate)\n",
        "    NPV_TV = TV/(1+discount)**(1+period)\n",
        "\n",
        "    return NPV_TV+NPV_FCF\n",
        "\n"
      ],
      "execution_count": 0,
      "outputs": []
    },
    {
      "cell_type": "code",
      "metadata": {
        "id": "ahoLHgye7F57",
        "colab_type": "code",
        "colab": {}
      },
      "source": [
        "'''\n",
        "Quick visualization toolkit. I'd like to build this out to be decently powerful\n",
        "in terms of enabling quick interpretation of DCF related data.\n",
        "'''\n",
        "import sys\n",
        "\n",
        "import matplotlib.pyplot as plt\n",
        "import seaborn as sns\n",
        "\n",
        "sys.path.append('..')\n",
        "\n",
        "sns.set()\n",
        "sns.set_context('paper')\n",
        "\n",
        "\n",
        "def visualize(dcf_prices, current_share_prices, regress = True):\n",
        "    '''\n",
        "    2d plot comparing dcf-forecasted per share price with\n",
        "    where a list of stocks is currently trading\n",
        "\n",
        "    args:\n",
        "        dcf_prices: dict of {'ticker': price, ...} for dcf-values\n",
        "        current_share_prices: dict of {'ticker': price, ...} for (guess)\n",
        "        regress: regress a line of best fit, because why not\n",
        "\n",
        "    returns:\n",
        "        nada\n",
        "    '''\n",
        "    # TODO: implement\n",
        "    return NotImplementedError\n",
        "\n",
        "def visualize_bulk_historicals(dcfs, ticker, condition):\n",
        "    '''\n",
        "    multiple 2d plot comparing historical DCFS of different growth\n",
        "    assumption conditions\n",
        "\n",
        "    args:\n",
        "        dcfs: list of dcfs of format {'value1', {'year1': dcf}, ...}\n",
        "        condition: dict of format {'condition': [value1, value2, value3]}\n",
        "\n",
        "    '''\n",
        "    dcf_share_prices = {}\n",
        "    variable = list(condition.keys())[0]\n",
        "    \n",
        "    #TODO: make this more eloquent for handling the plotting of multiple condition formats\n",
        "    try:\n",
        "        conditions = [str(cond) for cond in list(condition.values())[0]]\n",
        "    except IndexError:\n",
        "        print(condition)\n",
        "        conditions = [condition['Ticker']]\n",
        "\n",
        "    for cond in conditions:\n",
        "        dcf_share_prices[cond] = {}\n",
        "        years = dcfs[cond].keys()\n",
        "        for year in years:\n",
        "            dcf_share_prices[cond][year] = dcfs[cond][year]['share_price']\n",
        "\n",
        "    for cond in conditions:\n",
        "        plt.plot(list(dcf_share_prices[cond].keys())[::-1], \n",
        "                 list(dcf_share_prices[cond].values())[::-1], label = cond)\n",
        "\n",
        "    # sorry for anybody reading this, bit too pythonic\n",
        "    # the second argument here just fetches the list of dates we're using as x values\n",
        "    # in the above plt.plot() call without knowing the conditions we index with abo\n",
        "    historical_stock_prices = get_historical_share_prices(ticker, \n",
        "                                                          list(dcf_share_prices[list(dcf_share_prices.keys())[0]].keys())[::-1])\n",
        "    plt.plot(list(historical_stock_prices.keys()),\n",
        "             list(historical_stock_prices.values()), label = '${} over time'.format(ticker))\n",
        "    plt.rcParams[\"figure.figsize\"]=20,20\n",
        "    plt.xlabel('Date')\n",
        "    plt.ylabel('Share price ($)')\n",
        "    plt.legend(loc = 'upper right')\n",
        "    plt.title('$' + ticker + '  ')\n",
        "    return plt\n",
        "\n",
        "def visualize_historicals(dcfs):\n",
        "    '''\n",
        "    2d plot comparing dcf history to share price history\n",
        "    '''\n",
        "    pass\n",
        "\n",
        "    dcf_share_prices = {}\n",
        "    for k, v in dcfs.items():\n",
        "        dcf_share_prices[dcfs[k]['date']] = dcfs[k]['share_price']\n",
        "\n",
        "    xs = list(dcf_share_prices.keys())[::-1]\n",
        "    ys = list(dcf_share_prices.values())[::-1]\n",
        "\n",
        "    plt.scatter(xs, ys)\n",
        "    plt.rcParams[\"figure.figsize\"]=20,20\n",
        "\n",
        "    return plt\n"
      ],
      "execution_count": 0,
      "outputs": []
    },
    {
      "cell_type": "code",
      "metadata": {
        "id": "hzl5a9Pt7R6r",
        "colab_type": "code",
        "colab": {}
      },
      "source": [
        "def prettyprint(dcfs, years):\n",
        "    '''\n",
        "    Pretty print-out results of a DCF query.\n",
        "    Handles formatting for all output variatisons.\n",
        "    '''\n",
        "    \n",
        "    LISTTEST = []\n",
        "\n",
        "    if years > 1:\n",
        "        for k, v in dcfs.items():\n",
        "            LISTTEST.append('ticker: {}'.format(k))\n",
        "            if len(dcfs[k].keys()) > 1:\n",
        "                for yr, dcf in v.items():\n",
        "                     LISTTEST.append('date: {} \\\n",
        "                        \\nvalue: {}'.format(yr, dcf))\n",
        "    else:\n",
        "        for k, v in dcfs.items():\n",
        "             LISTTEST.append('ticker: {}  \\\n",
        "                  \\nvalue: {}'.format(k, v))\n",
        "             \n",
        "    print(LISTTEST)\n",
        "    # return None\n",
        "    \n",
        "    \n"
      ],
      "execution_count": 0,
      "outputs": []
    },
    {
      "cell_type": "code",
      "metadata": {
        "id": "UAPqUWMS3vk1",
        "colab_type": "code",
        "colab": {}
      },
      "source": [
        "# !pip install argparse\n",
        "# # !rm -R DCF\n",
        "# !pip install matplotlib urllib3 seaborn\n",
        "# # !git clone https://github.com/albisbub/DCF.git\n",
        "# # !pip install git+https://github.com/albisbub/DCF.git\n",
        "\n",
        "# # !git merge DCF/DCF\n",
        "# # !ls DCF\n",
        "# # !pip install git+file://c:/DCF/modelling\n",
        "# # !pip install git+file://c:/DCF/visualization\n",
        "\n",
        "# !pip install fuckit\n",
        "# import fuckit\n",
        "# import os\n",
        "# import subprocess\n",
        "# import argparse\n",
        "\n",
        "# from modeling.data import *\n",
        "# from modeling.dcf import *\n",
        "# from visualization.plot import *\n",
        "# from visualization.printouts import *\n",
        "\n",
        "\n",
        "\n",
        "\n",
        "def main(args):\n",
        "    '''\n",
        "    although the if statements are less than desirable, it allows rapid exploration of \n",
        "    historical or present DCF values for either a single or list of tickers.\n",
        "    '''\n",
        "\n",
        "\n",
        "\n",
        "    parser = argparse.ArgumentParser()\n",
        "\n",
        "    parser.add_argument('--p', '--period', help = 'years to forecast', type = int, default =  5)\n",
        "    parser.add_argument('--t', '--ticker', help = 'pass a single ticker to do historical DCF', type = str, default = 'AAPL')\n",
        "    parser.add_argument('--y', '--years', help = 'number of years to compute DCF analysis for', type = int, default = 1)\n",
        "    parser.add_argument('--i', '--interval', help = 'interval period for each calc, either \"annual\" or \"quarter\"', default = 'annual')\n",
        "    parser.add_argument('--s', '--step_increase', help = 'specify step increase for EG, CG, PG to enable comparisons.', type = float, default = 0)\n",
        "    parser.add_argument('--steps', help = 'steps to take if --s is > 0', default = 5)\n",
        "    parser.add_argument('--v', '--variable', help = 'if --step_increase is specified, must specifiy variable to increase from: [earnings_growth_rate, discount_rate]', default = None)\n",
        "    parser.add_argument('--d', '--discount_rate', help = 'discount rate for future cash flow to firm', default = 0.1)\n",
        "    parser.add_argument('--eg', '--earnings_growth_rate', help = 'growth in revenue, YoY',  type = float, default = .05)\n",
        "    parser.add_argument('--cg', '--cap_ex_growth_rate', help = 'growth in cap_ex, YoY', type = float, default = 0.045)\n",
        "    parser.add_argument('--pg', '--perpetual_growth_rate', help = 'for perpetuity growth terminal value', type = float, default = 0.05)\n",
        "\n",
        "\n",
        "    args = parser.parse_args(args.split())\n",
        "\n",
        "    if args.s > 0:\n",
        "        if args.v is not None:\n",
        "            if args.v == 'eg' or 'earnings_growth_rate':\n",
        "                cond, dcfs = run_setup(args, variable = 'eg')\n",
        "            elif args.v == 'cg' or 'cap_ex_growth_rate':\n",
        "                cond, dcfs = run_setup(args, variable = 'cg')\n",
        "            elif args.v == 'pg' or 'perpetual_growth_rate':\n",
        "                cond, dcfs = run_setup(args, variable = 'pg')\n",
        "            elif args.v == 'discount_rate' or 'discount':\n",
        "                cond, dcfs = run_setup(args, variable = 'discount')\n",
        "            # TODO: more dynamically  do this...potentially? \n",
        "            else:\n",
        "                raise ValueError('args.variable is invalid, must choose (as of now) from this list -> [earnings_growth_rate, cap_ex_growth_rate, perpetual_growth_rate, discount')\n",
        "        else:\n",
        "            # should  we just default to something?\n",
        "            raise ValueError('If step (-- s) is > 0, you must specify the variable via --v. What was passed is invalid.')\n",
        "    else:\n",
        "        cond, dcfs = {'Ticker': [args.t]}, {}\n",
        "        dcfs[args.t] = historical_DCF(args.t, args.y, args.p, args.d, args.eg, args.cg, args.pg, args.i)\n",
        "\n",
        "    if args.y > 1: # can't graph single timepoint very well....\n",
        "        return visualize_bulk_historicals(dcfs, args.t, cond)\n",
        "    else:\n",
        "        prettyprint(dcfs, args.y)\n",
        "\n",
        "def run_setup(args, variable):\n",
        "\n",
        "\n",
        "  \n",
        "    dcfs, cond = {}, {args.v: []}\n",
        "    \n",
        "    for increment in range(1, int(args.steps) + 1): # default to 5 steps?\n",
        "        # this should probably be wrapped in another function..\n",
        "        var = vars(args)[variable] * (1 + (args.s * increment))\n",
        "        step = '{}: {}'.format(args.v, str(var)[0:4])\n",
        "\n",
        "        cond[args.v].append(step)\n",
        "        vars(args)[variable] = var\n",
        "        dcfs[step] = historical_DCF(args.t, args.y, args.p, args.d, args.eg, args.cg, args.pg, args.i)\n",
        "\n",
        "    return cond, dcfs\n",
        "\n",
        "def multiple_tickers():\n",
        "    '''\n",
        "    can be called from main to spawn dcf/historical dcfs for \n",
        "    a list of tickers TODO: fully fix\n",
        "    '''\n",
        "    # if args.ts is not None:\n",
        "    #     '''list to forecast'''\n",
        "    #     if args.y > 1:\n",
        "    #         for ticker in args.ts:\n",
        "    #             dcfs[ticker] =  historical_DCF(args.t, args.y, args.p, args.eg, args.cg, args.pgr)\n",
        "    #     else:\n",
        "    #         for ticker in args.tss:\n",
        "    #             dcfs[ticker] = DCF(args.t, args.p, args.eg, args.cg, args.pgr)\n",
        "    # elif args.t is not None:\n",
        "    #     ''' single ticker'''\n",
        "    #     if args.y > 1:\n",
        "    #         dcfs[args.t] = historical_DCF(args.t, args.y, args.p, args.eg, args.cg, args.pgr)\n",
        "    #     else:\n",
        "    #         dcfs[args.t] = DCF(args.t, args.p, args.eg, args.cg, args.pgr)\n",
        "    # else:\n",
        "    #     raise ValueError('A ticker or list of tickers must be specified with --ticker or --tickers')\n",
        "    return NotImplementedError\n",
        "\n",
        "\n"
      ],
      "execution_count": 0,
      "outputs": []
    },
    {
      "cell_type": "markdown",
      "metadata": {
        "id": "lE-SyUsE9ZSE",
        "colab_type": "text"
      },
      "source": [
        "### Scenario Callibration"
      ]
    },
    {
      "cell_type": "code",
      "metadata": {
        "id": "maVJ-JwY_qXb",
        "colab_type": "code",
        "colab": {}
      },
      "source": [
        "#hide-input\n",
        "\n",
        "# %%capture%%capture\n",
        "%matplotlib inline\n",
        "\n",
        "# import imp \n",
        "# !pwd\n",
        "# helper = imp.new_module('helper')\n",
        "# exec(open(\"/main.py\").read(), helper.__dict__)\n",
        "\n",
        "# with fuckit:\n",
        "  #\tcan compute DCFs historically on either an 'annual' or 'quarter' basis. if quarter is indicated, total number of DCFS = years * 4\n",
        "interval = 'quarter'\n",
        "lookBackPeriod = str(3)\n",
        "earnings_growth = str(.15)\n",
        "#some sensitivity analysis: if this is specified, DCFs will be computed for default + (step_increase * interval_number), \n",
        "#showing specifically how changing the underlying assumption impacts valuation\n",
        "step_increase = str(0.1)\n",
        "\n",
        "#number of steps to take (for step_increase)\n",
        "steps = str(2)\n",
        "#the variable to increase each step, those available are: earnings_growth_rate, cap_ex_growth_rate, perpetual_growth_rate, discount_rate\n",
        "variable = \"earnings_growth_rate\"\n",
        "command = str(\"--t \"+subjectCompany+\" --i \"+interval+\"  --y \"+lookBackPeriod+\" --eg \"+earnings_growth+\" --steps \"+steps+\" --s \"+step_increase+\" --v \"+variable+\"\")\n",
        "\n",
        "a = main(command)\n"
      ],
      "execution_count": 0,
      "outputs": []
    },
    {
      "cell_type": "code",
      "metadata": {
        "id": "2qi3TXFb94tV",
        "colab_type": "code",
        "colab": {}
      },
      "source": [
        "import pandas as pd\n",
        "%matplotlib inline\n",
        "a.show()"
      ],
      "execution_count": 0,
      "outputs": []
    },
    {
      "cell_type": "markdown",
      "metadata": {
        "id": "Cb9f0Fn3qm_t",
        "colab_type": "text"
      },
      "source": [
        "# Conclusions and Summary"
      ]
    },
    {
      "cell_type": "code",
      "metadata": {
        "id": "NA751rL70y11",
        "colab_type": "code",
        "colab": {}
      },
      "source": [
        ""
      ],
      "execution_count": 0,
      "outputs": []
    },
    {
      "cell_type": "code",
      "metadata": {
        "id": "cIThizYqrnhw",
        "colab_type": "code",
        "colab": {}
      },
      "source": [
        "# print(returned_output.decode(\"utf-8\"))"
      ],
      "execution_count": 0,
      "outputs": []
    }
  ]
}